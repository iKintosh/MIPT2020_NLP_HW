{
 "cells": [
  {
   "cell_type": "code",
   "execution_count": 1,
   "metadata": {
    "pycharm": {
     "is_executing": true,
     "name": "#%%\n"
    }
   },
   "outputs": [],
   "source": [
    "from collections import namedtuple\n",
    "\n",
    "# other packages\n",
    "import pandas as pd\n",
    "# pytorch\n",
    "import torch\n",
    "import torch.optim as optim\n",
    "import tqdm\n",
    "from allennlp.data.dataset_readers.seq2seq import Seq2SeqDatasetReader\n",
    "from allennlp.data.iterators import BucketIterator\n",
    "from allennlp.data.token_indexers import SingleIdTokenIndexer\n",
    "from allennlp.data.tokenizers.character_tokenizer import CharacterTokenizer\n",
    "from allennlp.data.vocabulary import Vocabulary\n",
    "# model\n",
    "from allennlp.models.encoder_decoders.simple_seq2seq import SimpleSeq2Seq\n",
    "# attention\n",
    "from allennlp.modules.attention import AdditiveAttention\n",
    "from allennlp.modules.seq2seq_encoders import StackedSelfAttentionEncoder\n",
    "# encoder\n",
    "from allennlp.modules.text_field_embedders import BasicTextFieldEmbedder\n",
    "from allennlp.modules.token_embedders import Embedding\n",
    "from allennlp.predictors import SimpleSeq2SeqPredictor\n",
    "from allennlp.training.trainer import Trainer\n",
    "# preprocessing\n",
    "from imblearn.under_sampling import RandomUnderSampler\n",
    "from sklearn.model_selection import train_test_split"
   ]
  },
  {
   "cell_type": "code",
   "execution_count": null,
   "metadata": {},
   "outputs": [],
   "source": []
  },
  {
   "cell_type": "code",
   "execution_count": 2,
   "metadata": {},
   "outputs": [
    {
     "data": {
      "text/plain": [
       "True"
      ]
     },
     "execution_count": 2,
     "metadata": {},
     "output_type": "execute_result"
    }
   ],
   "source": [
    "torch.cuda.is_available()"
   ]
  },
  {
   "cell_type": "code",
   "execution_count": 3,
   "metadata": {
    "pycharm": {
     "name": "#%%\n"
    }
   },
   "outputs": [],
   "source": [
    "\n",
    "\n",
    "Config = namedtuple('Config', [\n",
    "                    'lazy',\n",
    "                    'max_vocab_size', \n",
    "                    'batch_size', \n",
    "                    'epochs', \n",
    "                    'max_seq_len', \n",
    "                    'IN_EMBEDDING_DIM', \n",
    "                    'HIDDEN_DIM', \n",
    "                    'OUT_EMBEDDING_DIM', \n",
    "                    'CUDA_DEVICE',\n",
    "                    'n_samples'\n",
    "])\n",
    "\n"
   ]
  },
  {
   "cell_type": "markdown",
   "metadata": {
    "pycharm": {
     "name": "#%% md\n"
    }
   },
   "source": [
    "# create config file"
   ]
  },
  {
   "cell_type": "code",
   "execution_count": 4,
   "metadata": {
    "pycharm": {
     "name": "#%%\n"
    }
   },
   "outputs": [],
   "source": [
    "config = Config(False,\n",
    "               10000,\n",
    "               64,\n",
    "               20,\n",
    "               100,\n",
    "               64,\n",
    "               32,\n",
    "               64,\n",
    "               0 if torch.cuda.is_available() else -1, \n",
    "               60000)"
   ]
  },
  {
   "cell_type": "markdown",
   "metadata": {
    "pycharm": {
     "name": "#%% md\n"
    }
   },
   "source": [
    "# prepare data"
   ]
  },
  {
   "cell_type": "code",
   "execution_count": 5,
   "metadata": {
    "pycharm": {
     "name": "#%%\n"
    }
   },
   "outputs": [],
   "source": [
    "raw_dataset = pd.read_csv('data/ru_train.csv')\n",
    "\n",
    "raw_dataset['before'] = raw_dataset['before'].astype(str)\n",
    "raw_dataset['after'] = raw_dataset['after'].astype(str)\n",
    "\n",
    "d = raw_dataset['class'].value_counts().to_dict()\n",
    "\n",
    "for i in d:\n",
    "    if d[i] > config.n_samples:\n",
    "        d[i] = config.n_samples"
   ]
  },
  {
   "cell_type": "code",
   "execution_count": 6,
   "metadata": {
    "pycharm": {
     "name": "#%%\n"
    }
   },
   "outputs": [
    {
     "data": {
      "text/plain": [
       "{'PLAIN': 60000,\n",
       " 'PUNCT': 60000,\n",
       " 'CARDINAL': 60000,\n",
       " 'LETTERS': 60000,\n",
       " 'DATE': 60000,\n",
       " 'VERBATIM': 60000,\n",
       " 'ORDINAL': 46738,\n",
       " 'MEASURE': 40534,\n",
       " 'TELEPHONE': 10088,\n",
       " 'DECIMAL': 7297,\n",
       " 'ELECTRONIC': 5832,\n",
       " 'MONEY': 2690,\n",
       " 'FRACTION': 2460,\n",
       " 'DIGIT': 2012,\n",
       " 'TIME': 1945}"
      ]
     },
     "execution_count": 6,
     "metadata": {},
     "output_type": "execute_result"
    }
   ],
   "source": [
    "d"
   ]
  },
  {
   "cell_type": "code",
   "execution_count": 7,
   "metadata": {},
   "outputs": [],
   "source": [
    "\n",
    "\n",
    "rus = RandomUnderSampler(sampling_strategy=d, random_state=0)\n",
    "\n",
    "raw_dataset_resampled, _ = rus.fit_resample(raw_dataset, raw_dataset['class'])\n",
    "\n"
   ]
  },
  {
   "cell_type": "code",
   "execution_count": 8,
   "metadata": {
    "pycharm": {
     "name": "#%%\n"
    }
   },
   "outputs": [],
   "source": [
    "df = raw_dataset_resampled[['before', 'after']]\n",
    "\n",
    "df_train, df_test = train_test_split(df, test_size=0.1)\n",
    "\n",
    "df_train.to_csv('train_dataset.tsv', index=False, header=False, sep='\\t')\n",
    "df_test.to_csv('test_dataset.tsv', index=False, header=False, sep='\\t')"
   ]
  },
  {
   "cell_type": "markdown",
   "metadata": {
    "pycharm": {
     "name": "#%% md\n"
    }
   },
   "source": [
    "# create reader"
   ]
  },
  {
   "cell_type": "code",
   "execution_count": 9,
   "metadata": {
    "pycharm": {
     "name": "#%%\n"
    }
   },
   "outputs": [
    {
     "name": "stderr",
     "output_type": "stream",
     "text": [
      "431636it [00:21, 20165.96it/s]\n",
      "47960it [00:01, 41660.54it/s]\n"
     ]
    }
   ],
   "source": [
    "reader = Seq2SeqDatasetReader(\n",
    "    source_tokenizer = CharacterTokenizer(),\n",
    "    target_tokenizer = CharacterTokenizer(),\n",
    "    source_token_indexers={'tokens': SingleIdTokenIndexer()},\n",
    "    target_token_indexers={'tokens': SingleIdTokenIndexer(namespace='target_tokens')},\n",
    "    lazy=config.lazy\n",
    ")\n",
    "\n",
    "train_dataset = reader.read('train_dataset.tsv',)\n",
    "validation_dataset = reader.read('test_dataset.tsv')"
   ]
  },
  {
   "cell_type": "markdown",
   "metadata": {
    "pycharm": {
     "name": "#%% md\n"
    }
   },
   "source": [
    "# prepare vocabulary"
   ]
  },
  {
   "cell_type": "code",
   "execution_count": 10,
   "metadata": {
    "pycharm": {
     "name": "#%%\n"
    }
   },
   "outputs": [
    {
     "name": "stderr",
     "output_type": "stream",
     "text": [
      "100%|██████████| 431636/431636 [00:05<00:00, 84312.93it/s]\n"
     ]
    }
   ],
   "source": [
    "vocab = Vocabulary.from_instances(train_dataset,\n",
    "                                  min_count={'tokens': 3, 'target_tokens': 3}\n",
    "                                 )\n",
    "\n",
    "in_embedding = Embedding(num_embeddings=vocab.get_vocab_size('tokens'),\n",
    "                         embedding_dim=config.IN_EMBEDDING_DIM\n",
    "                        )\n",
    "\n",
    "source_embedder = BasicTextFieldEmbedder({\"tokens\": in_embedding})\n",
    "\n",
    "iterator = BucketIterator(batch_size=config.batch_size, \n",
    "                          sorting_keys=[(\"source_tokens\", \"num_tokens\")],\n",
    "                         )\n",
    "\n",
    "iterator.index_with(vocab)"
   ]
  },
  {
   "cell_type": "markdown",
   "metadata": {
    "pycharm": {
     "name": "#%% md\n"
    }
   },
   "source": [
    "# prepare model"
   ]
  },
  {
   "cell_type": "code",
   "execution_count": 11,
   "metadata": {
    "pycharm": {
     "name": "#%%\n"
    }
   },
   "outputs": [],
   "source": [
    "## get simple encoder\n",
    "encoder = StackedSelfAttentionEncoder(input_dim=config.IN_EMBEDDING_DIM, \n",
    "                                      hidden_dim=config.HIDDEN_DIM, \n",
    "                                      projection_dim=64, \n",
    "                                      feedforward_hidden_dim=64, \n",
    "                                      num_layers=3, \n",
    "                                      num_attention_heads=8)\n",
    "\n",
    "attention = AdditiveAttention(config.HIDDEN_DIM, config.HIDDEN_DIM)"
   ]
  },
  {
   "cell_type": "code",
   "execution_count": 12,
   "metadata": {
    "pycharm": {
     "name": "#%%\n"
    }
   },
   "outputs": [],
   "source": [
    "max_decoding_steps = 100\n",
    "\n",
    "model = SimpleSeq2Seq(vocab, \n",
    "                      source_embedder, \n",
    "                      encoder, \n",
    "                      max_decoding_steps,\n",
    "                      target_embedding_dim=config.OUT_EMBEDDING_DIM,\n",
    "                      target_namespace='target_tokens',\n",
    "                      beam_size=8,\n",
    "                      use_bleu=False,\n",
    "                      attention=attention,\n",
    "                      scheduled_sampling_ratio = 0.15)"
   ]
  },
  {
   "cell_type": "code",
   "execution_count": 13,
   "metadata": {},
   "outputs": [],
   "source": [
    "if torch.cuda.is_available():\n",
    "    model.cuda(config.CUDA_DEVICE)"
   ]
  },
  {
   "cell_type": "code",
   "execution_count": 14,
   "metadata": {
    "pycharm": {
     "name": "#%%\n"
    }
   },
   "outputs": [],
   "source": [
    "optimizer = optim.Adam(model.parameters())"
   ]
  },
  {
   "cell_type": "markdown",
   "metadata": {
    "pycharm": {
     "name": "#%%\n"
    }
   },
   "source": [
    "# training"
   ]
  },
  {
   "cell_type": "code",
   "execution_count": 15,
   "metadata": {
    "pycharm": {
     "name": "#%%\n"
    }
   },
   "outputs": [
    {
     "data": {
      "text/plain": [
       "True"
      ]
     },
     "execution_count": 15,
     "metadata": {},
     "output_type": "execute_result"
    }
   ],
   "source": [
    "torch.cuda.is_available()"
   ]
  },
  {
   "cell_type": "code",
   "execution_count": 16,
   "metadata": {
    "pycharm": {
     "name": "#%%\n"
    }
   },
   "outputs": [],
   "source": [
    "trainer = Trainer(model=model,\n",
    "                  optimizer=optimizer,\n",
    "                  iterator=iterator,\n",
    "                  train_dataset=train_dataset,\n",
    "                  validation_dataset=validation_dataset,\n",
    "                  num_epochs=1,\n",
    "                  cuda_device=config.CUDA_DEVICE,\n",
    "                  patience=2)"
   ]
  },
  {
   "cell_type": "code",
   "execution_count": 17,
   "metadata": {
    "pycharm": {
     "name": "#%%\n"
    },
    "scrolled": false
   },
   "outputs": [
    {
     "name": "stderr",
     "output_type": "stream",
     "text": [
      "\r",
      "  0%|          | 0/6745 [00:00<?, ?it/s]"
     ]
    },
    {
     "name": "stdout",
     "output_type": "stream",
     "text": [
      "Will train for 20 epochs\n",
      "Epoch: 1\n"
     ]
    },
    {
     "name": "stderr",
     "output_type": "stream",
     "text": [
      "loss: 1.4819 ||: 100%|██████████| 6745/6745 [07:33<00:00, 14.89it/s]\n",
      "  0%|          | 0/750 [00:00<?, ?it/s]/opt/conda/conda-bld/pytorch_1587428398394/work/aten/src/ATen/native/BinaryOps.cpp:81: UserWarning: Integer division of tensors using div or / is deprecated, and in a future release div will perform true division as in Python 3. Use true_divide or floor_divide (// in Python) instead.\n",
      "loss: 0.7548 ||: 100%|██████████| 750/750 [01:12<00:00, 10.35it/s]\n",
      "  0%|          | 0/6745 [00:00<?, ?it/s]"
     ]
    },
    {
     "name": "stdout",
     "output_type": "stream",
     "text": [
      "Epoch: 2\n"
     ]
    },
    {
     "name": "stderr",
     "output_type": "stream",
     "text": [
      "loss: 0.7479 ||: 100%|██████████| 6745/6745 [07:17<00:00, 15.42it/s]\n",
      "loss: 0.4563 ||: 100%|██████████| 750/750 [01:06<00:00, 11.26it/s]\n",
      "  0%|          | 0/6745 [00:00<?, ?it/s]"
     ]
    },
    {
     "name": "stdout",
     "output_type": "stream",
     "text": [
      "Epoch: 3\n"
     ]
    },
    {
     "name": "stderr",
     "output_type": "stream",
     "text": [
      "loss: 0.5524 ||: 100%|██████████| 6745/6745 [07:18<00:00, 15.37it/s]\n",
      "loss: 0.3196 ||: 100%|██████████| 750/750 [01:10<00:00, 10.71it/s]\n",
      "  0%|          | 0/6745 [00:00<?, ?it/s]"
     ]
    },
    {
     "name": "stdout",
     "output_type": "stream",
     "text": [
      "Epoch: 4\n"
     ]
    },
    {
     "name": "stderr",
     "output_type": "stream",
     "text": [
      "loss: 0.4351 ||: 100%|██████████| 6745/6745 [07:19<00:00, 15.35it/s]\n",
      "loss: 0.2452 ||: 100%|██████████| 750/750 [01:06<00:00, 11.26it/s]\n",
      "  0%|          | 0/6745 [00:00<?, ?it/s]"
     ]
    },
    {
     "name": "stdout",
     "output_type": "stream",
     "text": [
      "Epoch: 5\n"
     ]
    },
    {
     "name": "stderr",
     "output_type": "stream",
     "text": [
      "loss: 0.3685 ||: 100%|██████████| 6745/6745 [07:20<00:00, 15.31it/s]\n",
      "loss: 0.2127 ||: 100%|██████████| 750/750 [01:07<00:00, 11.19it/s]\n",
      "  0%|          | 0/6745 [00:00<?, ?it/s]"
     ]
    },
    {
     "name": "stdout",
     "output_type": "stream",
     "text": [
      "Epoch: 6\n"
     ]
    },
    {
     "name": "stderr",
     "output_type": "stream",
     "text": [
      "loss: 0.3284 ||: 100%|██████████| 6745/6745 [07:19<00:00, 15.35it/s]\n",
      "loss: 0.1756 ||: 100%|██████████| 750/750 [01:07<00:00, 11.10it/s]\n",
      "  0%|          | 0/6745 [00:00<?, ?it/s]"
     ]
    },
    {
     "name": "stdout",
     "output_type": "stream",
     "text": [
      "Epoch: 7\n"
     ]
    },
    {
     "name": "stderr",
     "output_type": "stream",
     "text": [
      "loss: 0.3003 ||: 100%|██████████| 6745/6745 [07:42<00:00, 14.57it/s]\n",
      "loss: 0.1609 ||: 100%|██████████| 750/750 [01:21<00:00,  9.20it/s]\n",
      "  0%|          | 0/6745 [00:00<?, ?it/s]"
     ]
    },
    {
     "name": "stdout",
     "output_type": "stream",
     "text": [
      "Epoch: 8\n"
     ]
    },
    {
     "name": "stderr",
     "output_type": "stream",
     "text": [
      "loss: 0.2797 ||: 100%|██████████| 6745/6745 [07:58<00:00, 14.09it/s]\n",
      "loss: 0.1464 ||: 100%|██████████| 750/750 [01:15<00:00,  9.87it/s]\n",
      "  0%|          | 0/6745 [00:00<?, ?it/s]"
     ]
    },
    {
     "name": "stdout",
     "output_type": "stream",
     "text": [
      "Epoch: 9\n"
     ]
    },
    {
     "name": "stderr",
     "output_type": "stream",
     "text": [
      "loss: 0.2641 ||: 100%|██████████| 6745/6745 [08:44<00:00, 12.85it/s]\n",
      "loss: 0.1422 ||: 100%|██████████| 750/750 [01:19<00:00,  9.44it/s]\n",
      "  0%|          | 0/6745 [00:00<?, ?it/s]"
     ]
    },
    {
     "name": "stdout",
     "output_type": "stream",
     "text": [
      "Epoch: 10\n"
     ]
    },
    {
     "name": "stderr",
     "output_type": "stream",
     "text": [
      "loss: 0.2494 ||: 100%|██████████| 6745/6745 [07:28<00:00, 15.05it/s]\n",
      "loss: 0.1342 ||: 100%|██████████| 750/750 [00:56<00:00, 13.30it/s]\n",
      "  0%|          | 0/6745 [00:00<?, ?it/s]"
     ]
    },
    {
     "name": "stdout",
     "output_type": "stream",
     "text": [
      "Epoch: 11\n"
     ]
    },
    {
     "name": "stderr",
     "output_type": "stream",
     "text": [
      "loss: 0.2379 ||: 100%|██████████| 6745/6745 [07:17<00:00, 15.42it/s]\n",
      "loss: 0.1382 ||: 100%|██████████| 750/750 [01:00<00:00, 12.38it/s]\n",
      "  0%|          | 0/6745 [00:00<?, ?it/s]"
     ]
    },
    {
     "name": "stdout",
     "output_type": "stream",
     "text": [
      "Epoch: 12\n"
     ]
    },
    {
     "name": "stderr",
     "output_type": "stream",
     "text": [
      "loss: 0.2299 ||: 100%|██████████| 6745/6745 [07:18<00:00, 15.39it/s]\n",
      "loss: 0.1230 ||: 100%|██████████| 750/750 [00:58<00:00, 12.84it/s]\n",
      "  0%|          | 0/6745 [00:00<?, ?it/s]"
     ]
    },
    {
     "name": "stdout",
     "output_type": "stream",
     "text": [
      "Epoch: 13\n"
     ]
    },
    {
     "name": "stderr",
     "output_type": "stream",
     "text": [
      "loss: 0.2209 ||: 100%|██████████| 6745/6745 [07:25<00:00, 15.13it/s]\n",
      "loss: 0.1270 ||: 100%|██████████| 750/750 [01:01<00:00, 12.23it/s]\n",
      "  0%|          | 0/6745 [00:00<?, ?it/s]"
     ]
    },
    {
     "name": "stdout",
     "output_type": "stream",
     "text": [
      "Epoch: 14\n"
     ]
    },
    {
     "name": "stderr",
     "output_type": "stream",
     "text": [
      "loss: 0.2163 ||: 100%|██████████| 6745/6745 [07:23<00:00, 15.19it/s]\n",
      "loss: 0.1148 ||: 100%|██████████| 750/750 [01:01<00:00, 12.25it/s]\n",
      "  0%|          | 0/6745 [00:00<?, ?it/s]"
     ]
    },
    {
     "name": "stdout",
     "output_type": "stream",
     "text": [
      "Epoch: 15\n"
     ]
    },
    {
     "name": "stderr",
     "output_type": "stream",
     "text": [
      "loss: 0.2084 ||: 100%|██████████| 6745/6745 [07:35<00:00, 14.81it/s]\n",
      "loss: 0.1143 ||: 100%|██████████| 750/750 [01:01<00:00, 12.28it/s]\n",
      "  0%|          | 0/6745 [00:00<?, ?it/s]"
     ]
    },
    {
     "name": "stdout",
     "output_type": "stream",
     "text": [
      "Epoch: 16\n"
     ]
    },
    {
     "name": "stderr",
     "output_type": "stream",
     "text": [
      "loss: 0.2052 ||: 100%|██████████| 6745/6745 [07:32<00:00, 14.90it/s]\n",
      "loss: 0.1103 ||: 100%|██████████| 750/750 [01:01<00:00, 12.21it/s]\n",
      "  0%|          | 0/6745 [00:00<?, ?it/s]"
     ]
    },
    {
     "name": "stdout",
     "output_type": "stream",
     "text": [
      "Epoch: 17\n"
     ]
    },
    {
     "name": "stderr",
     "output_type": "stream",
     "text": [
      "loss: 0.2001 ||: 100%|██████████| 6745/6745 [07:18<00:00, 15.37it/s]\n",
      "loss: 0.1272 ||: 100%|██████████| 750/750 [00:59<00:00, 12.68it/s]\n",
      "  0%|          | 0/6745 [00:00<?, ?it/s]"
     ]
    },
    {
     "name": "stdout",
     "output_type": "stream",
     "text": [
      "Epoch: 18\n"
     ]
    },
    {
     "name": "stderr",
     "output_type": "stream",
     "text": [
      "loss: 0.1956 ||: 100%|██████████| 6745/6745 [07:24<00:00, 15.19it/s]\n",
      "loss: 0.1071 ||: 100%|██████████| 750/750 [00:53<00:00, 13.91it/s]\n",
      "  0%|          | 0/6745 [00:00<?, ?it/s]"
     ]
    },
    {
     "name": "stdout",
     "output_type": "stream",
     "text": [
      "Epoch: 19\n"
     ]
    },
    {
     "name": "stderr",
     "output_type": "stream",
     "text": [
      "loss: 0.1914 ||: 100%|██████████| 6745/6745 [07:24<00:00, 15.16it/s]\n",
      "loss: 0.1015 ||: 100%|██████████| 750/750 [00:55<00:00, 13.59it/s]\n",
      "  0%|          | 0/6745 [00:00<?, ?it/s]"
     ]
    },
    {
     "name": "stdout",
     "output_type": "stream",
     "text": [
      "Epoch: 20\n"
     ]
    },
    {
     "name": "stderr",
     "output_type": "stream",
     "text": [
      "loss: 0.1886 ||: 100%|██████████| 6745/6745 [07:21<00:00, 15.29it/s]\n",
      "loss: 0.0977 ||: 100%|██████████| 750/750 [00:58<00:00, 12.81it/s]\n"
     ]
    }
   ],
   "source": [
    "print(f'Will train for {config.epochs} epochs')\n",
    "for i in range(config.epochs):\n",
    "    print(f'Epoch: {i+1}')\n",
    "    trainer.train()"
   ]
  },
  {
   "cell_type": "code",
   "execution_count": 18,
   "metadata": {},
   "outputs": [
    {
     "name": "stderr",
     "output_type": "stream",
     "text": [
      "/home/analekseev/anaconda3/envs/NLPHW3/lib/python3.7/site-packages/tqdm/std.py:668: FutureWarning: The Panel class is removed from pandas. Accessing it from the top-level namespace will also be removed in the next version\n",
      "  from pandas import Panel\n"
     ]
    }
   ],
   "source": [
    "with open(\"Transformer.th\", 'wb') as f:\n",
    "    torch.save(model.state_dict(), f)\n",
    "    \n",
    "tqdm.tqdm.pandas()\n",
    "\n",
    "predictor = SimpleSeq2SeqPredictor(model, reader)\n",
    "\n",
    "del raw_dataset, df, train_dataset, trainer"
   ]
  },
  {
   "cell_type": "code",
   "execution_count": 19,
   "metadata": {},
   "outputs": [],
   "source": [
    "kaggle_test = pd.read_csv('data/ru_test_2.csv')\n",
    "kaggle_test['before'] = kaggle_test['before'].astype(str)\n",
    "\n",
    "small_kaggle = pd.DataFrame(kaggle_test['before'].unique(), columns=['before'])"
   ]
  },
  {
   "cell_type": "code",
   "execution_count": 20,
   "metadata": {},
   "outputs": [
    {
     "name": "stderr",
     "output_type": "stream",
     "text": [
      "100%|██████████| 175991/175991 [1:08:20<00:00, 42.92it/s]\n"
     ]
    }
   ],
   "source": [
    "small_kaggle['after'] = small_kaggle['before'].progress_apply(lambda x: ''.join(predictor.predict(x.lower())['predicted_tokens']))"
   ]
  },
  {
   "cell_type": "code",
   "execution_count": 21,
   "metadata": {},
   "outputs": [],
   "source": [
    "small_kaggle = small_kaggle.set_index('before')"
   ]
  },
  {
   "cell_type": "code",
   "execution_count": 22,
   "metadata": {},
   "outputs": [],
   "source": [
    "kaggle_test = kaggle_test.join(small_kaggle, on='before')\n",
    "kaggle_test['id'] = kaggle_test['sentence_id'].astype(str)+'_'+kaggle_test['token_id'].astype(str)"
   ]
  },
  {
   "cell_type": "code",
   "execution_count": 23,
   "metadata": {},
   "outputs": [],
   "source": [
    "kaggle_test[['id', 'after']].to_csv('sub.csv', index=False)"
   ]
  },
  {
   "cell_type": "code",
   "execution_count": null,
   "metadata": {},
   "outputs": [],
   "source": []
  }
 ],
 "metadata": {
  "kernelspec": {
   "display_name": "Python 3",
   "language": "python",
   "name": "python3"
  },
  "language_info": {
   "codemirror_mode": {
    "name": "ipython",
    "version": 3
   },
   "file_extension": ".py",
   "mimetype": "text/x-python",
   "name": "python",
   "nbconvert_exporter": "python",
   "pygments_lexer": "ipython3",
   "version": "3.7.7"
  }
 },
 "nbformat": 4,
 "nbformat_minor": 1
}