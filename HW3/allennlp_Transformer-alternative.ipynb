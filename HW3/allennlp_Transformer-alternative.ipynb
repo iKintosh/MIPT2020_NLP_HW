{
 "cells": [
  {
   "cell_type": "code",
   "execution_count": 1,
   "metadata": {
    "pycharm": {
     "is_executing": true,
     "name": "#%%\n"
    }
   },
   "outputs": [
    {
     "name": "stderr",
     "output_type": "stream",
     "text": [
      "/home/analekseev/anaconda3/envs/NLPHW3/lib/python3.7/site-packages/tqdm/std.py:668: FutureWarning: The Panel class is removed from pandas. Accessing it from the top-level namespace will also be removed in the next version\n",
      "  from pandas import Panel\n"
     ]
    }
   ],
   "source": [
    "from collections import namedtuple\n",
    "\n",
    "# other packages\n",
    "import pandas as pd\n",
    "# pytorch\n",
    "import torch\n",
    "import torch.optim as optim\n",
    "import tqdm\n",
    "tqdm.tqdm.pandas()\n",
    "from allennlp.data.dataset_readers.seq2seq import Seq2SeqDatasetReader\n",
    "from allennlp.data.iterators import BucketIterator\n",
    "from allennlp.data.token_indexers import SingleIdTokenIndexer\n",
    "from allennlp.data.tokenizers.character_tokenizer import CharacterTokenizer\n",
    "from allennlp.data.vocabulary import Vocabulary\n",
    "# model\n",
    "from allennlp.models.encoder_decoders.simple_seq2seq import SimpleSeq2Seq\n",
    "from allennlp.training.learning_rate_schedulers import CosineWithRestarts, LearningRateScheduler\n",
    "from allennlp.training.learning_rate_schedulers import LearningRateScheduler\n",
    "# attention\n",
    "from allennlp.modules.attention import AdditiveAttention\n",
    "from allennlp.modules.seq2seq_encoders import StackedSelfAttentionEncoder\n",
    "# encoder\n",
    "from allennlp.modules.text_field_embedders import BasicTextFieldEmbedder\n",
    "from allennlp.modules.token_embedders import Embedding\n",
    "from allennlp.predictors import SimpleSeq2SeqPredictor\n",
    "from allennlp.training.trainer import Trainer\n",
    "# preprocessing\n",
    "from imblearn.under_sampling import RandomUnderSampler\n",
    "from sklearn.model_selection import train_test_split"
   ]
  },
  {
   "cell_type": "code",
   "execution_count": 2,
   "metadata": {},
   "outputs": [
    {
     "data": {
      "text/plain": [
       "True"
      ]
     },
     "execution_count": 2,
     "metadata": {},
     "output_type": "execute_result"
    }
   ],
   "source": [
    "torch.cuda.is_available()"
   ]
  },
  {
   "cell_type": "code",
   "execution_count": 3,
   "metadata": {
    "pycharm": {
     "name": "#%%\n"
    }
   },
   "outputs": [],
   "source": [
    "\n",
    "\n",
    "Config = namedtuple('Config', [\n",
    "                    'lazy',\n",
    "                    'max_vocab_size', \n",
    "                    'batch_size', \n",
    "                    'epochs', \n",
    "                    'max_seq_len', \n",
    "                    'IN_EMBEDDING_DIM', \n",
    "                    'HIDDEN_DIM', \n",
    "                    'OUT_EMBEDDING_DIM', \n",
    "                    'CUDA_DEVICE',\n",
    "                    'n_samples'\n",
    "])\n",
    "\n"
   ]
  },
  {
   "cell_type": "markdown",
   "metadata": {
    "pycharm": {
     "name": "#%% md\n"
    }
   },
   "source": [
    "# create config file"
   ]
  },
  {
   "cell_type": "code",
   "execution_count": 4,
   "metadata": {
    "pycharm": {
     "name": "#%%\n"
    }
   },
   "outputs": [],
   "source": [
    "config = Config(False,\n",
    "               10000,\n",
    "               64,\n",
    "               40,\n",
    "               100,\n",
    "               64,\n",
    "               32,\n",
    "               64,\n",
    "               0 if torch.cuda.is_available() else -1, \n",
    "               100000)"
   ]
  },
  {
   "cell_type": "markdown",
   "metadata": {
    "pycharm": {
     "name": "#%% md\n"
    }
   },
   "source": [
    "# prepare data"
   ]
  },
  {
   "cell_type": "code",
   "execution_count": 5,
   "metadata": {
    "pycharm": {
     "name": "#%%\n"
    }
   },
   "outputs": [],
   "source": [
    "raw_dataset = pd.read_csv('data/ru_train.csv')\n",
    "\n",
    "raw_dataset['before'] = raw_dataset['before'].astype(str)\n",
    "raw_dataset['after'] = raw_dataset['after'].astype(str)\n",
    "\n",
    "d = raw_dataset['class'].value_counts().to_dict()\n",
    "\n",
    "for i in d:\n",
    "    if d[i] > config.n_samples:\n",
    "        d[i] = config.n_samples"
   ]
  },
  {
   "cell_type": "code",
   "execution_count": 6,
   "metadata": {
    "pycharm": {
     "name": "#%%\n"
    }
   },
   "outputs": [
    {
     "data": {
      "text/plain": [
       "{'PLAIN': 100000,\n",
       " 'PUNCT': 100000,\n",
       " 'CARDINAL': 100000,\n",
       " 'LETTERS': 100000,\n",
       " 'DATE': 100000,\n",
       " 'VERBATIM': 100000,\n",
       " 'ORDINAL': 46738,\n",
       " 'MEASURE': 40534,\n",
       " 'TELEPHONE': 10088,\n",
       " 'DECIMAL': 7297,\n",
       " 'ELECTRONIC': 5832,\n",
       " 'MONEY': 2690,\n",
       " 'FRACTION': 2460,\n",
       " 'DIGIT': 2012,\n",
       " 'TIME': 1945}"
      ]
     },
     "execution_count": 6,
     "metadata": {},
     "output_type": "execute_result"
    }
   ],
   "source": [
    "d"
   ]
  },
  {
   "cell_type": "code",
   "execution_count": 7,
   "metadata": {},
   "outputs": [],
   "source": [
    "rus = RandomUnderSampler(sampling_strategy=d, random_state=0)\n",
    "\n",
    "raw_dataset_resampled, _ = rus.fit_resample(raw_dataset, raw_dataset['class'])"
   ]
  },
  {
   "cell_type": "code",
   "execution_count": 8,
   "metadata": {
    "pycharm": {
     "name": "#%%\n"
    }
   },
   "outputs": [],
   "source": [
    "df = raw_dataset_resampled[['before', 'after']]\n",
    "\n",
    "df_train, df_test = train_test_split(df, test_size=0.1)\n",
    "\n",
    "df_train.to_csv('train_dataset.tsv', index=False, header=False, sep='\\t')\n",
    "df_test.to_csv('test_dataset.tsv', index=False, header=False, sep='\\t')"
   ]
  },
  {
   "cell_type": "markdown",
   "metadata": {
    "pycharm": {
     "name": "#%% md\n"
    }
   },
   "source": [
    "# create reader"
   ]
  },
  {
   "cell_type": "code",
   "execution_count": 9,
   "metadata": {
    "pycharm": {
     "name": "#%%\n"
    }
   },
   "outputs": [
    {
     "name": "stderr",
     "output_type": "stream",
     "text": [
      "647636it [00:29, 22182.89it/s]\n",
      "71960it [00:04, 14582.36it/s]\n"
     ]
    }
   ],
   "source": [
    "reader = Seq2SeqDatasetReader(\n",
    "    source_tokenizer = CharacterTokenizer(),\n",
    "    target_tokenizer = CharacterTokenizer(),\n",
    "    source_token_indexers={'tokens': SingleIdTokenIndexer()},\n",
    "    target_token_indexers={'tokens': SingleIdTokenIndexer(namespace='target_tokens')},\n",
    "    lazy=config.lazy\n",
    ")\n",
    "\n",
    "train_dataset = reader.read('train_dataset.tsv',)\n",
    "validation_dataset = reader.read('test_dataset.tsv')"
   ]
  },
  {
   "cell_type": "markdown",
   "metadata": {
    "pycharm": {
     "name": "#%% md\n"
    }
   },
   "source": [
    "# prepare vocabulary"
   ]
  },
  {
   "cell_type": "code",
   "execution_count": 10,
   "metadata": {
    "pycharm": {
     "name": "#%%\n"
    }
   },
   "outputs": [
    {
     "name": "stderr",
     "output_type": "stream",
     "text": [
      "100%|██████████| 647636/647636 [00:07<00:00, 92033.41it/s]\n"
     ]
    }
   ],
   "source": [
    "vocab = Vocabulary.from_instances(train_dataset,\n",
    "                                  min_count={'tokens': 3, 'target_tokens': 3}\n",
    "                                 )\n",
    "\n",
    "in_embedding = Embedding(num_embeddings=vocab.get_vocab_size('tokens'),\n",
    "                         embedding_dim=config.IN_EMBEDDING_DIM\n",
    "                        )\n",
    "\n",
    "source_embedder = BasicTextFieldEmbedder({\"tokens\": in_embedding})\n",
    "\n",
    "iterator = BucketIterator(batch_size=config.batch_size, \n",
    "                          sorting_keys=[(\"source_tokens\", \"num_tokens\")],\n",
    "                         )\n",
    "\n",
    "iterator.index_with(vocab)"
   ]
  },
  {
   "cell_type": "markdown",
   "metadata": {
    "pycharm": {
     "name": "#%% md\n"
    }
   },
   "source": [
    "# prepare model"
   ]
  },
  {
   "cell_type": "code",
   "execution_count": 11,
   "metadata": {
    "pycharm": {
     "name": "#%%\n"
    }
   },
   "outputs": [],
   "source": [
    "## get simple encoder\n",
    "encoder = StackedSelfAttentionEncoder(input_dim=config.IN_EMBEDDING_DIM, \n",
    "                                      hidden_dim=config.HIDDEN_DIM, \n",
    "                                      projection_dim=64, \n",
    "                                      feedforward_hidden_dim=64, \n",
    "                                      num_layers=1, \n",
    "                                      num_attention_heads=8)\n",
    "\n",
    "attention = AdditiveAttention(config.HIDDEN_DIM, config.HIDDEN_DIM)"
   ]
  },
  {
   "cell_type": "code",
   "execution_count": 12,
   "metadata": {
    "pycharm": {
     "name": "#%%\n"
    }
   },
   "outputs": [],
   "source": [
    "max_decoding_steps = 100\n",
    "\n",
    "model = SimpleSeq2Seq(vocab, \n",
    "                      source_embedder, \n",
    "                      encoder, \n",
    "                      max_decoding_steps,\n",
    "                      target_embedding_dim=config.OUT_EMBEDDING_DIM,\n",
    "                      target_namespace='target_tokens',\n",
    "                      beam_size=8,\n",
    "                      use_bleu=False,\n",
    "                      attention=attention,\n",
    "                      scheduled_sampling_ratio = 0.15)"
   ]
  },
  {
   "cell_type": "code",
   "execution_count": null,
   "metadata": {},
   "outputs": [],
   "source": []
  },
  {
   "cell_type": "code",
   "execution_count": 13,
   "metadata": {},
   "outputs": [],
   "source": [
    "if torch.cuda.is_available():\n",
    "    model.cuda(config.CUDA_DEVICE)"
   ]
  },
  {
   "cell_type": "code",
   "execution_count": 14,
   "metadata": {
    "pycharm": {
     "name": "#%%\n"
    }
   },
   "outputs": [],
   "source": [
    "optimizer = optim.Adam(model.parameters())\n",
    "lrs = CosineWithRestarts(optimizer, 2)"
   ]
  },
  {
   "cell_type": "markdown",
   "metadata": {
    "pycharm": {
     "name": "#%%\n"
    }
   },
   "source": [
    "# training"
   ]
  },
  {
   "cell_type": "code",
   "execution_count": 15,
   "metadata": {
    "pycharm": {
     "name": "#%%\n"
    }
   },
   "outputs": [
    {
     "data": {
      "text/plain": [
       "True"
      ]
     },
     "execution_count": 15,
     "metadata": {},
     "output_type": "execute_result"
    }
   ],
   "source": [
    "torch.cuda.is_available()"
   ]
  },
  {
   "cell_type": "code",
   "execution_count": 16,
   "metadata": {
    "pycharm": {
     "name": "#%%\n"
    }
   },
   "outputs": [
    {
     "name": "stderr",
     "output_type": "stream",
     "text": [
      "You provided a validation dataset but patience was set to None, meaning that early stopping is disabled\n"
     ]
    }
   ],
   "source": [
    "trainer = Trainer(model=model,\n",
    "                  optimizer=optimizer,\n",
    "                  iterator=iterator,\n",
    "                  train_dataset=train_dataset,\n",
    "                  validation_dataset=validation_dataset,\n",
    "                  num_epochs=config.epochs,\n",
    "                  cuda_device=config.CUDA_DEVICE, \n",
    "                  learning_rate_scheduler=lrs)"
   ]
  },
  {
   "cell_type": "code",
   "execution_count": 17,
   "metadata": {
    "pycharm": {
     "name": "#%%\n"
    },
    "scrolled": false
   },
   "outputs": [
    {
     "name": "stderr",
     "output_type": "stream",
     "text": [
      "\r",
      "  0%|          | 0/10120 [00:00<?, ?it/s]"
     ]
    },
    {
     "name": "stdout",
     "output_type": "stream",
     "text": [
      "Will train for 40 epochs\n"
     ]
    },
    {
     "name": "stderr",
     "output_type": "stream",
     "text": [
      "loss: 1.3713 ||: 100%|██████████| 10120/10120 [09:49<00:00, 17.16it/s]\n",
      "  0%|          | 0/1125 [00:00<?, ?it/s]/opt/conda/conda-bld/pytorch_1587428398394/work/aten/src/ATen/native/BinaryOps.cpp:81: UserWarning: Integer division of tensors using div or / is deprecated, and in a future release div will perform true division as in Python 3. Use true_divide or floor_divide (// in Python) instead.\n",
      "loss: 0.6883 ||: 100%|██████████| 1125/1125 [01:46<00:00, 10.58it/s]\n",
      "loss: 0.7354 ||: 100%|██████████| 10120/10120 [09:36<00:00, 17.56it/s]\n",
      "loss: 0.4944 ||: 100%|██████████| 1125/1125 [01:53<00:00,  9.95it/s]\n",
      "loss: 0.5733 ||: 100%|██████████| 10120/10120 [09:30<00:00, 17.72it/s]\n",
      "loss: 0.3268 ||: 100%|██████████| 1125/1125 [01:57<00:00,  9.61it/s]\n",
      "loss: 0.4552 ||: 100%|██████████| 10120/10120 [09:41<00:00, 17.40it/s]\n",
      "loss: 0.2628 ||: 100%|██████████| 1125/1125 [01:53<00:00,  9.92it/s]\n",
      "loss: 0.4132 ||: 100%|██████████| 10120/10120 [09:33<00:00, 17.64it/s]\n",
      "loss: 0.2217 ||: 100%|██████████| 1125/1125 [01:44<00:00, 10.77it/s]\n",
      "loss: 0.3563 ||: 100%|██████████| 10120/10120 [09:30<00:00, 17.74it/s]\n",
      "loss: 0.1986 ||: 100%|██████████| 1125/1125 [01:47<00:00, 10.46it/s]\n",
      "loss: 0.3446 ||: 100%|██████████| 10120/10120 [09:27<00:00, 17.82it/s]\n",
      "loss: 0.1870 ||: 100%|██████████| 1125/1125 [01:45<00:00, 10.66it/s]\n",
      "loss: 0.3085 ||: 100%|██████████| 10120/10120 [09:29<00:00, 17.78it/s]\n",
      "loss: 0.1682 ||: 100%|██████████| 1125/1125 [01:47<00:00, 10.47it/s]\n",
      "loss: 0.3085 ||: 100%|██████████| 10120/10120 [09:36<00:00, 17.55it/s]\n",
      "loss: 0.1627 ||: 100%|██████████| 1125/1125 [01:51<00:00, 10.06it/s]\n",
      "loss: 0.2777 ||: 100%|██████████| 10120/10120 [09:49<00:00, 17.17it/s]\n",
      "loss: 0.1511 ||: 100%|██████████| 1125/1125 [01:48<00:00, 10.36it/s]\n",
      "loss: 0.2821 ||: 100%|██████████| 10120/10120 [09:59<00:00, 16.88it/s]\n",
      "loss: 0.1541 ||: 100%|██████████| 1125/1125 [01:48<00:00, 10.39it/s]\n",
      "loss: 0.2553 ||: 100%|██████████| 10120/10120 [09:38<00:00, 17.50it/s]\n",
      "loss: 0.1402 ||: 100%|██████████| 1125/1125 [01:46<00:00, 10.55it/s]\n",
      "loss: 0.2631 ||: 100%|██████████| 10120/10120 [09:45<00:00, 17.30it/s]\n",
      "loss: 0.1401 ||: 100%|██████████| 1125/1125 [01:51<00:00, 10.07it/s]\n",
      "loss: 0.2420 ||: 100%|██████████| 10120/10120 [09:50<00:00, 17.13it/s]\n",
      "loss: 0.1337 ||: 100%|██████████| 1125/1125 [01:47<00:00, 10.45it/s]\n",
      "loss: 0.2498 ||: 100%|██████████| 10120/10120 [09:52<00:00, 17.07it/s]\n",
      "loss: 0.1367 ||: 100%|██████████| 1125/1125 [01:45<00:00, 10.64it/s]\n",
      "loss: 0.2292 ||: 100%|██████████| 10120/10120 [09:47<00:00, 17.23it/s]\n",
      "loss: 0.1246 ||: 100%|██████████| 1125/1125 [02:23<00:00,  7.83it/s]\n",
      "loss: 0.2377 ||: 100%|██████████| 10120/10120 [09:43<00:00, 17.34it/s]\n",
      "loss: 0.1278 ||: 100%|██████████| 1125/1125 [01:44<00:00, 10.80it/s]\n",
      "loss: 0.2192 ||: 100%|██████████| 10120/10120 [09:51<00:00, 17.12it/s]\n",
      "loss: 0.1197 ||: 100%|██████████| 1125/1125 [01:51<00:00, 10.12it/s]\n",
      "loss: 0.2293 ||: 100%|██████████| 10120/10120 [09:44<00:00, 17.33it/s]\n",
      "loss: 0.1266 ||: 100%|██████████| 1125/1125 [01:43<00:00, 10.89it/s]\n",
      "loss: 0.2113 ||: 100%|██████████| 10120/10120 [09:38<00:00, 17.49it/s]\n",
      "loss: 0.1183 ||: 100%|██████████| 1125/1125 [01:44<00:00, 10.80it/s]\n",
      "loss: 0.2221 ||: 100%|██████████| 10120/10120 [09:44<00:00, 17.31it/s]\n",
      "loss: 0.1294 ||: 100%|██████████| 1125/1125 [01:44<00:00, 10.79it/s]\n",
      "loss: 0.2048 ||: 100%|██████████| 10120/10120 [09:37<00:00, 17.52it/s]\n",
      "loss: 0.1164 ||: 100%|██████████| 1125/1125 [01:43<00:00, 10.90it/s]\n",
      "loss: 0.2163 ||: 100%|██████████| 10120/10120 [09:42<00:00, 17.37it/s]\n",
      "loss: 0.1193 ||: 100%|██████████| 1125/1125 [01:46<00:00, 10.54it/s]\n",
      "loss: 0.1999 ||: 100%|██████████| 10120/10120 [09:41<00:00, 17.40it/s]\n",
      "loss: 0.1215 ||: 100%|██████████| 1125/1125 [01:42<00:00, 11.02it/s]\n",
      "  0%|          | 0/10120 [00:02<?, ?it/s]\n"
     ]
    },
    {
     "ename": "KeyboardInterrupt",
     "evalue": "",
     "output_type": "error",
     "traceback": [
      "\u001b[0;31m---------------------------------------------------------------------------\u001b[0m",
      "\u001b[0;31mKeyboardInterrupt\u001b[0m                         Traceback (most recent call last)",
      "\u001b[0;32m<ipython-input-17-811c24a0d3be>\u001b[0m in \u001b[0;36m<module>\u001b[0;34m\u001b[0m\n\u001b[1;32m      1\u001b[0m \u001b[0mprint\u001b[0m\u001b[0;34m(\u001b[0m\u001b[0;34mf'Will train for {config.epochs} epochs'\u001b[0m\u001b[0;34m)\u001b[0m\u001b[0;34m\u001b[0m\u001b[0;34m\u001b[0m\u001b[0m\n\u001b[0;32m----> 2\u001b[0;31m \u001b[0mtrainer\u001b[0m\u001b[0;34m.\u001b[0m\u001b[0mtrain\u001b[0m\u001b[0;34m(\u001b[0m\u001b[0;34m)\u001b[0m\u001b[0;34m\u001b[0m\u001b[0;34m\u001b[0m\u001b[0m\n\u001b[0m",
      "\u001b[0;32m~/anaconda3/envs/NLPHW3/lib/python3.7/site-packages/allennlp/training/trainer.py\u001b[0m in \u001b[0;36mtrain\u001b[0;34m(self)\u001b[0m\n\u001b[1;32m    476\u001b[0m         \u001b[0;32mfor\u001b[0m \u001b[0mepoch\u001b[0m \u001b[0;32min\u001b[0m \u001b[0mrange\u001b[0m\u001b[0;34m(\u001b[0m\u001b[0mepoch_counter\u001b[0m\u001b[0;34m,\u001b[0m \u001b[0mself\u001b[0m\u001b[0;34m.\u001b[0m\u001b[0m_num_epochs\u001b[0m\u001b[0;34m)\u001b[0m\u001b[0;34m:\u001b[0m\u001b[0;34m\u001b[0m\u001b[0;34m\u001b[0m\u001b[0m\n\u001b[1;32m    477\u001b[0m             \u001b[0mepoch_start_time\u001b[0m \u001b[0;34m=\u001b[0m \u001b[0mtime\u001b[0m\u001b[0;34m.\u001b[0m\u001b[0mtime\u001b[0m\u001b[0;34m(\u001b[0m\u001b[0;34m)\u001b[0m\u001b[0;34m\u001b[0m\u001b[0;34m\u001b[0m\u001b[0m\n\u001b[0;32m--> 478\u001b[0;31m             \u001b[0mtrain_metrics\u001b[0m \u001b[0;34m=\u001b[0m \u001b[0mself\u001b[0m\u001b[0;34m.\u001b[0m\u001b[0m_train_epoch\u001b[0m\u001b[0;34m(\u001b[0m\u001b[0mepoch\u001b[0m\u001b[0;34m)\u001b[0m\u001b[0;34m\u001b[0m\u001b[0;34m\u001b[0m\u001b[0m\n\u001b[0m\u001b[1;32m    479\u001b[0m \u001b[0;34m\u001b[0m\u001b[0m\n\u001b[1;32m    480\u001b[0m             \u001b[0;31m# get peak of memory usage\u001b[0m\u001b[0;34m\u001b[0m\u001b[0;34m\u001b[0m\u001b[0;34m\u001b[0m\u001b[0m\n",
      "\u001b[0;32m~/anaconda3/envs/NLPHW3/lib/python3.7/site-packages/allennlp/training/trainer.py\u001b[0m in \u001b[0;36m_train_epoch\u001b[0;34m(self, epoch)\u001b[0m\n\u001b[1;32m    311\u001b[0m                                          total=num_training_batches)\n\u001b[1;32m    312\u001b[0m         \u001b[0mcumulative_batch_size\u001b[0m \u001b[0;34m=\u001b[0m \u001b[0;36m0\u001b[0m\u001b[0;34m\u001b[0m\u001b[0;34m\u001b[0m\u001b[0m\n\u001b[0;32m--> 313\u001b[0;31m         \u001b[0;32mfor\u001b[0m \u001b[0mbatch_group\u001b[0m \u001b[0;32min\u001b[0m \u001b[0mtrain_generator_tqdm\u001b[0m\u001b[0;34m:\u001b[0m\u001b[0;34m\u001b[0m\u001b[0;34m\u001b[0m\u001b[0m\n\u001b[0m\u001b[1;32m    314\u001b[0m             \u001b[0mbatches_this_epoch\u001b[0m \u001b[0;34m+=\u001b[0m \u001b[0;36m1\u001b[0m\u001b[0;34m\u001b[0m\u001b[0;34m\u001b[0m\u001b[0m\n\u001b[1;32m    315\u001b[0m             \u001b[0mself\u001b[0m\u001b[0;34m.\u001b[0m\u001b[0m_batch_num_total\u001b[0m \u001b[0;34m+=\u001b[0m \u001b[0;36m1\u001b[0m\u001b[0;34m\u001b[0m\u001b[0;34m\u001b[0m\u001b[0m\n",
      "\u001b[0;32m~/anaconda3/envs/NLPHW3/lib/python3.7/site-packages/tqdm/std.py\u001b[0m in \u001b[0;36m__iter__\u001b[0;34m(self)\u001b[0m\n\u001b[1;32m   1127\u001b[0m \u001b[0;34m\u001b[0m\u001b[0m\n\u001b[1;32m   1128\u001b[0m         \u001b[0;32mtry\u001b[0m\u001b[0;34m:\u001b[0m\u001b[0;34m\u001b[0m\u001b[0;34m\u001b[0m\u001b[0m\n\u001b[0;32m-> 1129\u001b[0;31m             \u001b[0;32mfor\u001b[0m \u001b[0mobj\u001b[0m \u001b[0;32min\u001b[0m \u001b[0miterable\u001b[0m\u001b[0;34m:\u001b[0m\u001b[0;34m\u001b[0m\u001b[0;34m\u001b[0m\u001b[0m\n\u001b[0m\u001b[1;32m   1130\u001b[0m                 \u001b[0;32myield\u001b[0m \u001b[0mobj\u001b[0m\u001b[0;34m\u001b[0m\u001b[0;34m\u001b[0m\u001b[0m\n\u001b[1;32m   1131\u001b[0m                 \u001b[0;31m# Update and possibly print the progressbar.\u001b[0m\u001b[0;34m\u001b[0m\u001b[0;34m\u001b[0m\u001b[0;34m\u001b[0m\u001b[0m\n",
      "\u001b[0;32m~/anaconda3/envs/NLPHW3/lib/python3.7/site-packages/allennlp/common/util.py\u001b[0m in \u001b[0;36m<lambda>\u001b[0;34m()\u001b[0m\n\u001b[1;32m    102\u001b[0m     \u001b[0mspecified\u001b[0m \u001b[0msize\u001b[0m\u001b[0;34m.\u001b[0m \u001b[0mThe\u001b[0m \u001b[0mlast\u001b[0m \u001b[0mlist\u001b[0m \u001b[0mmay\u001b[0m \u001b[0mbe\u001b[0m \u001b[0msmaller\u001b[0m \u001b[0;32mif\u001b[0m \u001b[0mthere\u001b[0m \u001b[0mare\u001b[0m \u001b[0minstances\u001b[0m \u001b[0mleft\u001b[0m \u001b[0mover\u001b[0m\u001b[0;34m.\u001b[0m\u001b[0;34m\u001b[0m\u001b[0;34m\u001b[0m\u001b[0m\n\u001b[1;32m    103\u001b[0m     \"\"\"\n\u001b[0;32m--> 104\u001b[0;31m     \u001b[0;32mreturn\u001b[0m \u001b[0miter\u001b[0m\u001b[0;34m(\u001b[0m\u001b[0;32mlambda\u001b[0m\u001b[0;34m:\u001b[0m \u001b[0mlist\u001b[0m\u001b[0;34m(\u001b[0m\u001b[0mislice\u001b[0m\u001b[0;34m(\u001b[0m\u001b[0miterator\u001b[0m\u001b[0;34m,\u001b[0m \u001b[0;36m0\u001b[0m\u001b[0;34m,\u001b[0m \u001b[0mgroup_size\u001b[0m\u001b[0;34m)\u001b[0m\u001b[0;34m)\u001b[0m\u001b[0;34m,\u001b[0m \u001b[0;34m[\u001b[0m\u001b[0;34m]\u001b[0m\u001b[0;34m)\u001b[0m\u001b[0;34m\u001b[0m\u001b[0;34m\u001b[0m\u001b[0m\n\u001b[0m\u001b[1;32m    105\u001b[0m \u001b[0;34m\u001b[0m\u001b[0m\n\u001b[1;32m    106\u001b[0m def pad_sequence_to_length(sequence: List,\n",
      "\u001b[0;32m~/anaconda3/envs/NLPHW3/lib/python3.7/site-packages/allennlp/data/iterators/data_iterator.py\u001b[0m in \u001b[0;36m__call__\u001b[0;34m(self, instances, num_epochs, shuffle)\u001b[0m\n\u001b[1;32m    141\u001b[0m                 \u001b[0madd_to_cache\u001b[0m \u001b[0;34m=\u001b[0m \u001b[0mself\u001b[0m\u001b[0;34m.\u001b[0m\u001b[0m_cache_instances\u001b[0m \u001b[0;32mand\u001b[0m \u001b[0mkey\u001b[0m \u001b[0;32mnot\u001b[0m \u001b[0;32min\u001b[0m \u001b[0mself\u001b[0m\u001b[0;34m.\u001b[0m\u001b[0m_cache\u001b[0m\u001b[0;34m\u001b[0m\u001b[0;34m\u001b[0m\u001b[0m\n\u001b[1;32m    142\u001b[0m \u001b[0;34m\u001b[0m\u001b[0m\n\u001b[0;32m--> 143\u001b[0;31m                 \u001b[0;32mfor\u001b[0m \u001b[0mbatch\u001b[0m \u001b[0;32min\u001b[0m \u001b[0mbatches\u001b[0m\u001b[0;34m:\u001b[0m\u001b[0;34m\u001b[0m\u001b[0;34m\u001b[0m\u001b[0m\n\u001b[0m\u001b[1;32m    144\u001b[0m                     \u001b[0;32mif\u001b[0m \u001b[0mself\u001b[0m\u001b[0;34m.\u001b[0m\u001b[0m_track_epoch\u001b[0m\u001b[0;34m:\u001b[0m\u001b[0;34m\u001b[0m\u001b[0;34m\u001b[0m\u001b[0m\n\u001b[1;32m    145\u001b[0m                         \u001b[0madd_epoch_number\u001b[0m\u001b[0;34m(\u001b[0m\u001b[0mbatch\u001b[0m\u001b[0;34m,\u001b[0m \u001b[0mepoch\u001b[0m\u001b[0;34m)\u001b[0m\u001b[0;34m\u001b[0m\u001b[0;34m\u001b[0m\u001b[0m\n",
      "\u001b[0;32m~/anaconda3/envs/NLPHW3/lib/python3.7/site-packages/allennlp/data/iterators/bucket_iterator.py\u001b[0m in \u001b[0;36m_create_batches\u001b[0;34m(self, instances, shuffle)\u001b[0m\n\u001b[1;32m    122\u001b[0m                                             \u001b[0mself\u001b[0m\u001b[0;34m.\u001b[0m\u001b[0m_sorting_keys\u001b[0m\u001b[0;34m,\u001b[0m\u001b[0;34m\u001b[0m\u001b[0;34m\u001b[0m\u001b[0m\n\u001b[1;32m    123\u001b[0m                                             \u001b[0mself\u001b[0m\u001b[0;34m.\u001b[0m\u001b[0mvocab\u001b[0m\u001b[0;34m,\u001b[0m\u001b[0;34m\u001b[0m\u001b[0;34m\u001b[0m\u001b[0m\n\u001b[0;32m--> 124\u001b[0;31m                                             self._padding_noise)\n\u001b[0m\u001b[1;32m    125\u001b[0m \u001b[0;34m\u001b[0m\u001b[0m\n\u001b[1;32m    126\u001b[0m             \u001b[0mbatches\u001b[0m \u001b[0;34m=\u001b[0m \u001b[0;34m[\u001b[0m\u001b[0;34m]\u001b[0m\u001b[0;34m\u001b[0m\u001b[0;34m\u001b[0m\u001b[0m\n",
      "\u001b[0;32m~/anaconda3/envs/NLPHW3/lib/python3.7/site-packages/allennlp/data/iterators/bucket_iterator.py\u001b[0m in \u001b[0;36msort_by_padding\u001b[0;34m(instances, sorting_keys, vocab, padding_noise)\u001b[0m\n\u001b[1;32m     28\u001b[0m     \u001b[0;32mfor\u001b[0m \u001b[0minstance\u001b[0m \u001b[0;32min\u001b[0m \u001b[0minstances\u001b[0m\u001b[0;34m:\u001b[0m\u001b[0;34m\u001b[0m\u001b[0;34m\u001b[0m\u001b[0m\n\u001b[1;32m     29\u001b[0m         \u001b[0;31m# Make sure instance is indexed before calling .get_padding\u001b[0m\u001b[0;34m\u001b[0m\u001b[0;34m\u001b[0m\u001b[0;34m\u001b[0m\u001b[0m\n\u001b[0;32m---> 30\u001b[0;31m         \u001b[0minstance\u001b[0m\u001b[0;34m.\u001b[0m\u001b[0mindex_fields\u001b[0m\u001b[0;34m(\u001b[0m\u001b[0mvocab\u001b[0m\u001b[0;34m)\u001b[0m\u001b[0;34m\u001b[0m\u001b[0;34m\u001b[0m\u001b[0m\n\u001b[0m\u001b[1;32m     31\u001b[0m         \u001b[0mpadding_lengths\u001b[0m \u001b[0;34m=\u001b[0m \u001b[0mcast\u001b[0m\u001b[0;34m(\u001b[0m\u001b[0mDict\u001b[0m\u001b[0;34m[\u001b[0m\u001b[0mstr\u001b[0m\u001b[0;34m,\u001b[0m \u001b[0mDict\u001b[0m\u001b[0;34m[\u001b[0m\u001b[0mstr\u001b[0m\u001b[0;34m,\u001b[0m \u001b[0mfloat\u001b[0m\u001b[0;34m]\u001b[0m\u001b[0;34m]\u001b[0m\u001b[0;34m,\u001b[0m \u001b[0minstance\u001b[0m\u001b[0;34m.\u001b[0m\u001b[0mget_padding_lengths\u001b[0m\u001b[0;34m(\u001b[0m\u001b[0;34m)\u001b[0m\u001b[0;34m)\u001b[0m\u001b[0;34m\u001b[0m\u001b[0;34m\u001b[0m\u001b[0m\n\u001b[1;32m     32\u001b[0m         \u001b[0;32mif\u001b[0m \u001b[0mpadding_noise\u001b[0m \u001b[0;34m>\u001b[0m \u001b[0;36m0.0\u001b[0m\u001b[0;34m:\u001b[0m\u001b[0;34m\u001b[0m\u001b[0;34m\u001b[0m\u001b[0m\n",
      "\u001b[0;31mKeyboardInterrupt\u001b[0m: "
     ]
    }
   ],
   "source": [
    "print(f'Will train for {config.epochs} epochs')\n",
    "trainer.train()"
   ]
  },
  {
   "cell_type": "code",
   "execution_count": 22,
   "metadata": {
    "pycharm": {
     "name": "#%%\n"
    }
   },
   "outputs": [],
   "source": [
    "with open(\"Transformer-alt.th\", 'wb') as f:\n",
    "    torch.save(model.state_dict(), f)\n",
    "    \n",
    "tqdm.tqdm.pandas()\n",
    "\n",
    "model.eval()\n",
    "\n",
    "predictor = SimpleSeq2SeqPredictor(model, reader)\n"
   ]
  },
  {
   "cell_type": "code",
   "execution_count": null,
   "metadata": {
    "pycharm": {
     "name": "#%%\n"
    }
   },
   "outputs": [],
   "source": []
  },
  {
   "cell_type": "code",
   "execution_count": 23,
   "metadata": {},
   "outputs": [],
   "source": [
    "kaggle_test = pd.read_csv('data/ru_test_2.csv')\n",
    "kaggle_test['before'] = kaggle_test['before'].astype(str)\n",
    "\n",
    "small_kaggle = pd.DataFrame(kaggle_test['before'].unique(), columns=['before'])"
   ]
  },
  {
   "cell_type": "code",
   "execution_count": 24,
   "metadata": {},
   "outputs": [
    {
     "name": "stderr",
     "output_type": "stream",
     "text": [
      "100%|██████████| 175991/175991 [1:06:12<00:00, 44.31it/s]\n"
     ]
    }
   ],
   "source": [
    "small_kaggle['after'] = small_kaggle['before'].progress_apply(lambda x: ''.join(predictor.predict(x.lower())['predicted_tokens']))"
   ]
  },
  {
   "cell_type": "code",
   "execution_count": 25,
   "metadata": {},
   "outputs": [],
   "source": [
    "small_kaggle = small_kaggle.set_index('before')"
   ]
  },
  {
   "cell_type": "code",
   "execution_count": 26,
   "metadata": {},
   "outputs": [],
   "source": [
    "kaggle_test = kaggle_test.join(small_kaggle, on='before')\n",
    "kaggle_test['id'] = kaggle_test['sentence_id'].astype(str)+'_'+kaggle_test['token_id'].astype(str)"
   ]
  },
  {
   "cell_type": "code",
   "execution_count": 27,
   "metadata": {},
   "outputs": [],
   "source": [
    "kaggle_test[['id', 'after']].to_csv('sub-alt.csv', index=False)"
   ]
  },
  {
   "cell_type": "code",
   "execution_count": null,
   "metadata": {},
   "outputs": [],
   "source": []
  }
 ],
 "metadata": {
  "kernelspec": {
   "display_name": "Python 3",
   "language": "python",
   "name": "python3"
  },
  "language_info": {
   "codemirror_mode": {
    "name": "ipython",
    "version": 3
   },
   "file_extension": ".py",
   "mimetype": "text/x-python",
   "name": "python",
   "nbconvert_exporter": "python",
   "pygments_lexer": "ipython3",
   "version": "3.7.7"
  }
 },
 "nbformat": 4,
 "nbformat_minor": 1
}
