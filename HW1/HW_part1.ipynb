{
 "cells": [
  {
   "cell_type": "markdown",
   "metadata": {},
   "source": [
    "# Part 1"
   ]
  },
  {
   "cell_type": "markdown",
   "metadata": {},
   "source": [
    "## 1"
   ]
  },
  {
   "cell_type": "code",
   "execution_count": 1,
   "metadata": {
    "pycharm": {
     "is_executing": false
    }
   },
   "outputs": [],
   "source": [
    "import nltk\n",
    "from nltk.tokenize import RegexpTokenizer\n",
    "from nltk.corpus import stopwords\n",
    "import spacy\n",
    "import re\n",
    "import multiprocessing\n",
    "from collections import Counter\n",
    "import os\n",
    "import tqdm\n",
    "import re"
   ]
  },
  {
   "cell_type": "code",
   "execution_count": 2,
   "metadata": {
    "pycharm": {
     "name": "#%%\n"
    }
   },
   "outputs": [],
   "source": [
    "st_words = set(stopwords.words('english'))\n",
    "file_names = os.listdir(path=\"hpac_source\")\n",
    "tokenizer = RegexpTokenizer(r'\\w+')\n",
    "\n",
    "def cnt(name):\n",
    "    with open(os.path.join('hpac_source', name)) as f:\n",
    "        text = f.read()\n",
    "    tokens = tokenizer.tokenize(text)\n",
    "    filtered_words = [w for w in tokens if not w in st_words and len(w) > 1]\n",
    "    current_text_counter = Counter(filtered_words)\n",
    "    with open(os.path.join('hpac_source_filtered', name), 'w+') as f:\n",
    "        f.write(' '.join(filtered_words))\n",
    "    return current_text_counter\n",
    "\n",
    "pool = multiprocessing.Pool(processes=8)\n",
    "results = pool.map(cnt, file_names)\n",
    "pool.close()\n",
    "pool.join()"
   ]
  },
  {
   "cell_type": "code",
   "execution_count": 3,
   "metadata": {
    "pycharm": {
     "name": "#%%\n"
    }
   },
   "outputs": [
    {
     "name": "stderr",
     "output_type": "stream",
     "text": [
      "/home/analekseev/PycharmProjects/NLP/venv/lib/python3.7/site-packages/ipykernel_launcher.py:2: TqdmDeprecationWarning: This function will be removed in tqdm==5.0.0\n",
      "Please use `tqdm.notebook.tqdm` instead of `tqdm.tqdm_notebook`\n",
      "  \n"
     ]
    },
    {
     "data": {
      "application/vnd.jupyter.widget-view+json": {
       "model_id": "b58602de630c4eb490f72cad4ff999d7",
       "version_major": 2,
       "version_minor": 0
      },
      "text/plain": [
       "HBox(children=(FloatProgress(value=0.0, max=36225.0), HTML(value='')))"
      ]
     },
     "metadata": {},
     "output_type": "display_data"
    },
    {
     "name": "stdout",
     "output_type": "stream",
     "text": [
      "\n"
     ]
    }
   ],
   "source": [
    "common_counter = Counter()\n",
    "for i in tqdm.tqdm_notebook(results):\n",
    "    common_counter.update(dict(i.most_common(5000)))"
   ]
  },
  {
   "cell_type": "code",
   "execution_count": 4,
   "metadata": {},
   "outputs": [
    {
     "data": {
      "text/plain": [
       "[('harry', 4000480),\n",
       " ('said', 2262365),\n",
       " ('would', 1904645),\n",
       " ('hermione', 1831450),\n",
       " ('could', 1688265),\n",
       " ('back', 1400309),\n",
       " ('one', 1400091),\n",
       " ('draco', 1389930),\n",
       " ('like', 1275301),\n",
       " ('know', 1203946),\n",
       " ('eyes', 1033469),\n",
       " ('time', 1016961),\n",
       " ('ron', 906178),\n",
       " ('looked', 893445),\n",
       " ('get', 847653),\n",
       " ('asked', 826495),\n",
       " ('well', 802456),\n",
       " ('even', 770242),\n",
       " ('around', 767637),\n",
       " ('see', 744540),\n",
       " ('head', 737082),\n",
       " ('going', 718864),\n",
       " ('think', 716081),\n",
       " ('still', 694768),\n",
       " ('go', 667650),\n",
       " ('face', 657549),\n",
       " ('way', 656364),\n",
       " ('severus', 655536),\n",
       " ('room', 648484),\n",
       " ('hand', 639613),\n",
       " ('ginny', 639505),\n",
       " ('sirius', 630082),\n",
       " ('something', 623395),\n",
       " ('want', 613217),\n",
       " ('potter', 608390),\n",
       " ('thought', 608150),\n",
       " ('right', 603543),\n",
       " ('snape', 600428),\n",
       " ('away', 580725),\n",
       " ('much', 578715),\n",
       " ('two', 572219),\n",
       " ('look', 566544),\n",
       " ('never', 559461),\n",
       " ('really', 526366),\n",
       " ('knew', 524841),\n",
       " ('first', 523467),\n",
       " ('made', 513183),\n",
       " ('let', 513133),\n",
       " ('good', 510092),\n",
       " ('malfoy', 486325),\n",
       " ('wand', 482518),\n",
       " ('little', 481391),\n",
       " ('felt', 476097),\n",
       " ('dumbledore', 472814),\n",
       " ('turned', 472763),\n",
       " ('james', 468800),\n",
       " ('come', 461134),\n",
       " ('got', 451902),\n",
       " ('make', 446018),\n",
       " ('took', 436164),\n",
       " ('remus', 433634),\n",
       " ('lily', 423751),\n",
       " ('though', 421474),\n",
       " ('sure', 414026),\n",
       " ('looking', 412947),\n",
       " ('say', 412107),\n",
       " ('door', 408796),\n",
       " ('tell', 407274),\n",
       " ('dark', 407087),\n",
       " ('take', 406712),\n",
       " ('us', 404431),\n",
       " ('long', 400953),\n",
       " ('voice', 397148),\n",
       " ('voldemort', 396677),\n",
       " ('last', 395133),\n",
       " ('told', 387988),\n",
       " ('need', 387853),\n",
       " ('left', 382492),\n",
       " ('yes', 381415),\n",
       " ('man', 378306),\n",
       " ('wanted', 369171),\n",
       " ('anything', 367357),\n",
       " ('next', 357422),\n",
       " ('oh', 355366),\n",
       " ('came', 343141),\n",
       " ('love', 341285),\n",
       " ('nodded', 341056),\n",
       " ('moment', 336220),\n",
       " ('people', 334999),\n",
       " ('year', 333341),\n",
       " ('saw', 333047),\n",
       " ('another', 332662),\n",
       " ('things', 328450),\n",
       " ('went', 325854),\n",
       " ('hands', 325015),\n",
       " ('death', 324139),\n",
       " ('ca', 322952),\n",
       " ('help', 322672),\n",
       " ('day', 322609),\n",
       " ('enough', 320944),\n",
       " ('boy', 316910),\n",
       " ('smiled', 312579),\n",
       " ('professor', 311825),\n",
       " ('mind', 311632),\n",
       " ('nothing', 308574),\n",
       " ('ever', 308533),\n",
       " ('found', 306832),\n",
       " ('hair', 301576),\n",
       " ('always', 300555),\n",
       " ('house', 299266),\n",
       " ('find', 297437),\n",
       " ('bit', 296606),\n",
       " ('seemed', 293976),\n",
       " ('behind', 293761),\n",
       " ('hogwarts', 292077),\n",
       " ('thing', 287898),\n",
       " ('bed', 287639),\n",
       " ('trying', 284261),\n",
       " ('feel', 281513),\n",
       " ('put', 281299),\n",
       " ('started', 281285),\n",
       " ('life', 279702),\n",
       " ('since', 278134),\n",
       " ('black', 277102),\n",
       " ('night', 276927),\n",
       " ('heard', 273446),\n",
       " ('years', 269698),\n",
       " ('smile', 268327),\n",
       " ('RRB', 266899),\n",
       " ('without', 266676),\n",
       " ('side', 266635),\n",
       " ('better', 265331),\n",
       " ('magic', 263917),\n",
       " ('gave', 262515),\n",
       " ('might', 261734),\n",
       " ('weasley', 260498),\n",
       " ('everyone', 257572),\n",
       " ('father', 256190),\n",
       " ('sat', 254236),\n",
       " ('began', 253542),\n",
       " ('someone', 253200),\n",
       " ('almost', 252376),\n",
       " ('walked', 250447),\n",
       " ('done', 248115),\n",
       " ('finally', 247508),\n",
       " ('already', 246986),\n",
       " ('three', 246207),\n",
       " ('tried', 245227),\n",
       " ('place', 245213),\n",
       " ('every', 243955),\n",
       " ('stood', 242644),\n",
       " ('LRB', 242515),\n",
       " ('friends', 241074),\n",
       " ('everything', 240963),\n",
       " ('lord', 238874),\n",
       " ('front', 238700),\n",
       " ('small', 238339),\n",
       " ('pulled', 238159),\n",
       " ('also', 237641),\n",
       " ('quickly', 237229),\n",
       " ('course', 236436),\n",
       " ('body', 234862),\n",
       " ('keep', 234441),\n",
       " ('girl', 234431),\n",
       " ('best', 232186),\n",
       " ('towards', 227980),\n",
       " ('old', 224188),\n",
       " ('else', 223387),\n",
       " ('arms', 223092),\n",
       " ('neville', 221442),\n",
       " ('table', 221109),\n",
       " ('mean', 219655),\n",
       " ('give', 219635),\n",
       " ('work', 219427),\n",
       " ('family', 219200),\n",
       " ('sorry', 217532),\n",
       " ('albus', 216557),\n",
       " ('end', 215672),\n",
       " ('please', 215645),\n",
       " ('great', 215256),\n",
       " ('many', 214172),\n",
       " ('world', 214004),\n",
       " ('mother', 213936),\n",
       " ('school', 213612),\n",
       " ('lucius', 211030),\n",
       " ('together', 209583),\n",
       " ('new', 208997),\n",
       " ('stop', 208087),\n",
       " ('quite', 207917),\n",
       " ('happened', 206186),\n",
       " ('open', 206000),\n",
       " ('leave', 205873),\n",
       " ('must', 205230),\n",
       " ('maybe', 204894),\n",
       " ('replied', 204657),\n",
       " ('mouth', 203652),\n",
       " ('soon', 202645),\n",
       " ('yet', 202305),\n",
       " ('floor', 198391),\n",
       " ('later', 198084),\n",
       " ('getting', 196775),\n",
       " ('able', 195327),\n",
       " ('words', 194067),\n",
       " ('name', 193608),\n",
       " ('arm', 193453),\n",
       " ('hard', 193444),\n",
       " ('friend', 191663),\n",
       " ('lips', 191106),\n",
       " ('least', 190824),\n",
       " ('mr', 188871),\n",
       " ('feeling', 188643),\n",
       " ('actually', 188222),\n",
       " ('suddenly', 187310),\n",
       " ('anyone', 187243),\n",
       " ('seen', 186447),\n",
       " ('slowly', 186393),\n",
       " ('sighed', 184335),\n",
       " ('luna', 183753),\n",
       " ('spell', 183552),\n",
       " ('talk', 182824),\n",
       " ('making', 180959),\n",
       " ('shook', 179534),\n",
       " ('gone', 178635),\n",
       " ('light', 177510),\n",
       " ('rather', 177136),\n",
       " ('george', 176863),\n",
       " ('believe', 176735),\n",
       " ('second', 176435),\n",
       " ('blood', 176285),\n",
       " ('home', 175615),\n",
       " ('far', 175378),\n",
       " ('probably', 175346),\n",
       " ('held', 175033),\n",
       " ('granger', 173398),\n",
       " ('used', 173343),\n",
       " ('inside', 172830),\n",
       " ('wo', 171582),\n",
       " ('opened', 171412),\n",
       " ('rest', 170746),\n",
       " ('taking', 170213),\n",
       " ('fred', 169428),\n",
       " ('muggle', 167890),\n",
       " ('half', 167888),\n",
       " ('stopped', 167219),\n",
       " ('hear', 167022),\n",
       " ('rose', 166642),\n",
       " ('idea', 166373),\n",
       " ('whispered', 166270),\n",
       " ('thank', 165985),\n",
       " ('coming', 164758),\n",
       " ('try', 164591),\n",
       " ('called', 164568),\n",
       " ('breath', 164374),\n",
       " ('care', 164329),\n",
       " ('across', 163987),\n",
       " ('slightly', 163280),\n",
       " ('tom', 162990),\n",
       " ('parents', 162399),\n",
       " ('yeah', 162053),\n",
       " ('students', 161298),\n",
       " ('needed', 161039),\n",
       " ('close', 160032),\n",
       " ('ask', 159985),\n",
       " ('laughed', 159578),\n",
       " ('may', 159100),\n",
       " ('slytherin', 158912),\n",
       " ('heart', 158902),\n",
       " ('watched', 158100),\n",
       " ('use', 157961),\n",
       " ('gryffindor', 157837),\n",
       " ('part', 157447),\n",
       " ('sitting', 156914),\n",
       " ('continued', 156889),\n",
       " ('morning', 156323),\n",
       " ('happy', 154647),\n",
       " ('feet', 154148),\n",
       " ('lot', 153863),\n",
       " ('red', 152757),\n",
       " ('pain', 152522),\n",
       " ('book', 150396),\n",
       " ('okay', 149391),\n",
       " ('remember', 149201),\n",
       " ('fact', 148717),\n",
       " ('hall', 148676),\n",
       " ('past', 148101),\n",
       " ('stared', 146454),\n",
       " ('reached', 146036),\n",
       " ('fine', 145800),\n",
       " ('chapter', 145766),\n",
       " ('along', 145702),\n",
       " ('however', 145411),\n",
       " ('ministry', 145347),\n",
       " ('thinking', 144814),\n",
       " ('wrong', 144042),\n",
       " ('wizard', 144041),\n",
       " ('onto', 143485),\n",
       " ('hope', 143028),\n",
       " ('alone', 142739),\n",
       " ('shoulder', 142473),\n",
       " ('read', 141694),\n",
       " ('set', 141628),\n",
       " ('bad', 140422),\n",
       " ('moved', 140051),\n",
       " ('standing', 139676),\n",
       " ('either', 139233),\n",
       " ('dead', 138573),\n",
       " ('chest', 138467),\n",
       " ('talking', 137426),\n",
       " ('fell', 137254),\n",
       " ('decided', 137244),\n",
       " ('minutes', 136049),\n",
       " ('potion', 136022),\n",
       " ('stay', 135862),\n",
       " ('ran', 135271),\n",
       " ('hurt', 134726),\n",
       " ('young', 134414),\n",
       " ('understand', 134273),\n",
       " ('mcgonagall', 133949),\n",
       " ('air', 133855),\n",
       " ('fingers', 133798),\n",
       " ('person', 133079),\n",
       " ('instead', 132963),\n",
       " ('caught', 132815),\n",
       " ('kill', 132815),\n",
       " ('point', 132757),\n",
       " ('matter', 132641),\n",
       " ('woman', 132262),\n",
       " ('potions', 132237),\n",
       " ('miss', 132180),\n",
       " ('days', 132130),\n",
       " ('others', 131069),\n",
       " ('ready', 130447),\n",
       " ('kiss', 130368),\n",
       " ('tonks', 130249),\n",
       " ('tears', 130216),\n",
       " ('ground', 130160),\n",
       " ('son', 129616),\n",
       " ('kept', 129226),\n",
       " ('taken', 128172),\n",
       " ('times', 128063),\n",
       " ('wait', 127777),\n",
       " ('full', 127736),\n",
       " ('deep', 127544),\n",
       " ('order', 127426),\n",
       " ('forward', 126982),\n",
       " ('curse', 126924),\n",
       " ('closed', 126755),\n",
       " ('eaters', 126032),\n",
       " ('noticed', 125395),\n",
       " ('story', 125127),\n",
       " ('magical', 124690),\n",
       " ('kind', 123682),\n",
       " ('lost', 123411),\n",
       " ('reason', 123372),\n",
       " ('raised', 123041),\n",
       " ('sleep', 122338),\n",
       " ('sound', 121845),\n",
       " ('thanks', 121220),\n",
       " ('move', 120528),\n",
       " ('blaise', 119817),\n",
       " ('eye', 119487),\n",
       " ('wall', 119081),\n",
       " ('different', 119067),\n",
       " ('whole', 119037),\n",
       " ('office', 117282),\n",
       " ('bellatrix', 117142),\n",
       " ('several', 116931),\n",
       " ('question', 116021),\n",
       " ('start', 115960),\n",
       " ('followed', 115444),\n",
       " ('word', 114960),\n",
       " ('turn', 114690),\n",
       " ('large', 114089),\n",
       " ('perhaps', 113656),\n",
       " ('anyway', 113594),\n",
       " ('class', 113539),\n",
       " ('answer', 113032),\n",
       " ('outside', 112943),\n",
       " ('holding', 112868),\n",
       " ('attention', 112382),\n",
       " ('hit', 112115),\n",
       " ('chair', 111393),\n",
       " ('lupin', 111289),\n",
       " ('answered', 111223),\n",
       " ('completely', 110939),\n",
       " ('cold', 110821),\n",
       " ('green', 110692),\n",
       " ('exactly', 110675),\n",
       " ('scorpius', 110458),\n",
       " ('waiting', 110250),\n",
       " ('quietly', 110243),\n",
       " ('four', 109428),\n",
       " ('immediately', 108619),\n",
       " ('mum', 108247),\n",
       " ('ago', 108168),\n",
       " ('minerva', 107840),\n",
       " ('robes', 107781),\n",
       " ('spoke', 107627),\n",
       " ('saying', 107624),\n",
       " ('longer', 107480),\n",
       " ('watching', 106930),\n",
       " ('today', 106901),\n",
       " ('leaving', 106727),\n",
       " ('stepped', 106278),\n",
       " ('true', 106153),\n",
       " ('child', 106075),\n",
       " ('seeing', 105600),\n",
       " ('hold', 105463),\n",
       " ('master', 105314),\n",
       " ('fire', 105305),\n",
       " ('staring', 104971),\n",
       " ('surprised', 104939),\n",
       " ('pansy', 104830),\n",
       " ('given', 104730),\n",
       " ('nearly', 104663),\n",
       " ('silence', 104533),\n",
       " ('witch', 104430),\n",
       " ('dad', 104260),\n",
       " ('turning', 103981),\n",
       " ('neck', 103922),\n",
       " ('nice', 103801),\n",
       " ('softly', 103648),\n",
       " ('headmaster', 103247),\n",
       " ('finished', 103174),\n",
       " ('meant', 102403),\n",
       " ('brought', 102039),\n",
       " ('closer', 102034),\n",
       " ('simply', 101813),\n",
       " ('war', 100977),\n",
       " ('grabbed', 100622),\n",
       " ('show', 100448),\n",
       " ('hell', 100358),\n",
       " ('top', 99986),\n",
       " ('bloody', 99622),\n",
       " ('call', 99603),\n",
       " ('grinned', 99565),\n",
       " ('charm', 99503),\n",
       " ('managed', 99338),\n",
       " ('realized', 99165),\n",
       " ('change', 99118),\n",
       " ('says', 98938),\n",
       " ('looks', 98926),\n",
       " ('brother', 98786),\n",
       " ('narcissa', 98767),\n",
       " ('quidditch', 98380),\n",
       " ('running', 98042),\n",
       " ('children', 97872),\n",
       " ('kissed', 97350),\n",
       " ('killed', 97306),\n",
       " ('chance', 97261),\n",
       " ('speak', 96920),\n",
       " ('common', 96763),\n",
       " ('shut', 96717),\n",
       " ('skin', 96701),\n",
       " ('mrs', 96341),\n",
       " ('week', 96174),\n",
       " ('sent', 95004),\n",
       " ('known', 94872),\n",
       " ('alright', 94139),\n",
       " ('white', 94069),\n",
       " ('added', 93837),\n",
       " ('pointed', 93777),\n",
       " ('run', 93750),\n",
       " ('castle', 93608),\n",
       " ('rolled', 93454),\n",
       " ('five', 93371),\n",
       " ('met', 93360),\n",
       " ('less', 93326),\n",
       " ('expression', 92796),\n",
       " ('boys', 92711),\n",
       " ('molly', 92670),\n",
       " ('supposed', 92600),\n",
       " ('walking', 92492),\n",
       " ('whatever', 92451),\n",
       " ('returned', 92436),\n",
       " ('knowing', 92263),\n",
       " ('fight', 92174),\n",
       " ('muttered', 92100),\n",
       " ('hours', 92084),\n",
       " ('cast', 91959),\n",
       " ('appeared', 91842),\n",
       " ('girls', 91551),\n",
       " ('leaned', 91458),\n",
       " ('giving', 91238),\n",
       " ('upon', 90718),\n",
       " ('happen', 90615),\n",
       " ('books', 90503),\n",
       " ('water', 90305),\n",
       " ('thoughts', 90113),\n",
       " ('pretty', 89930),\n",
       " ('shrugged', 89897),\n",
       " ('sort', 89717),\n",
       " ('spells', 89228),\n",
       " ('guess', 89189),\n",
       " ('throat', 89088),\n",
       " ('letter', 88849),\n",
       " ('gently', 88805),\n",
       " ('real', 88787),\n",
       " ('worry', 88532),\n",
       " ('big', 88336),\n",
       " ('pushed', 88064),\n",
       " ('loved', 88000),\n",
       " ('stairs', 87388),\n",
       " ('hagrid', 87345),\n",
       " ('possible', 87266),\n",
       " ('surprise', 87092),\n",
       " ('couple', 86821),\n",
       " ('glanced', 86657),\n",
       " ('meet', 86088),\n",
       " ('passed', 85882),\n",
       " ('seem', 85864),\n",
       " ('fear', 85565),\n",
       " ('bill', 85193),\n",
       " ('beside', 85077),\n",
       " ('watch', 84876),\n",
       " ('become', 84869),\n",
       " ('power', 84836),\n",
       " ('desk', 84711),\n",
       " ('sit', 84697),\n",
       " ('stand', 84689),\n",
       " ('placed', 84654),\n",
       " ('smiling', 84264),\n",
       " ('dinner', 84153),\n",
       " ('late', 83695),\n",
       " ('merlin', 83672),\n",
       " ('sense', 83387),\n",
       " ('safe', 83375),\n",
       " ('although', 83315),\n",
       " ('corner', 83256),\n",
       " ('toward', 83005),\n",
       " ('die', 82756),\n",
       " ('sir', 82375),\n",
       " ('wizards', 82229),\n",
       " ('stupid', 82084),\n",
       " ('bring', 81878),\n",
       " ('walk', 81851),\n",
       " ('eater', 81486),\n",
       " ('soft', 81416),\n",
       " ('baby', 81089),\n",
       " ('shot', 81065),\n",
       " ('anymore', 80676),\n",
       " ('break', 80590),\n",
       " ('kitchen', 80436),\n",
       " ('knows', 80392),\n",
       " ('snapped', 80321),\n",
       " ('agreed', 80102),\n",
       " ('wondered', 80039),\n",
       " ('short', 80034),\n",
       " ('near', 79654),\n",
       " ('wish', 79460),\n",
       " ('free', 79421),\n",
       " ('quiet', 79320),\n",
       " ('telling', 79305),\n",
       " ('blue', 79031),\n",
       " ('group', 78634),\n",
       " ('changed', 78599),\n",
       " ('window', 78548),\n",
       " ('laugh', 78496),\n",
       " ('sister', 78495),\n",
       " ('moving', 78405),\n",
       " ('peter', 78211),\n",
       " ('pulling', 78186),\n",
       " ('return', 78039),\n",
       " ('plan', 77878),\n",
       " ('angry', 77830),\n",
       " ('charlie', 77792),\n",
       " ('case', 77630),\n",
       " ('trust', 77177),\n",
       " ('explained', 77007),\n",
       " ('reading', 76929),\n",
       " ('dropped', 76826),\n",
       " ('shoulders', 76572),\n",
       " ('barely', 76471),\n",
       " ('sight', 76081),\n",
       " ('gaze', 75916),\n",
       " ('cut', 75734),\n",
       " ('live', 75686),\n",
       " ('especially', 75113),\n",
       " ('beautiful', 75113),\n",
       " ('died', 74932),\n",
       " ('figure', 74776),\n",
       " ('working', 74640),\n",
       " ('within', 74639),\n",
       " ('clear', 74632),\n",
       " ('christmas', 74519),\n",
       " ('shaking', 74458),\n",
       " ('legs', 74320),\n",
       " ('tonight', 74312),\n",
       " ('memory', 74311),\n",
       " ('worried', 74269),\n",
       " ('control', 74166),\n",
       " ('months', 74151),\n",
       " ('spent', 74117),\n",
       " ('seat', 74079),\n",
       " ('entire', 73813),\n",
       " ('dear', 73777),\n",
       " ('shouted', 73772),\n",
       " ('living', 73716),\n",
       " ('frowned', 73318),\n",
       " ('straight', 72989),\n",
       " ('fall', 72959),\n",
       " ('stomach', 72926),\n",
       " ('hour', 72902),\n",
       " ('conversation', 72710),\n",
       " ('stone', 72557),\n",
       " ('wizarding', 72018),\n",
       " ('allowed', 71909),\n",
       " ('form', 71899),\n",
       " ('fun', 71871),\n",
       " ('remembered', 71762),\n",
       " ('tone', 71736),\n",
       " ('afraid', 71652),\n",
       " ('filled', 71402),\n",
       " ('entered', 71325),\n",
       " ('picked', 71195),\n",
       " ('anger', 71053),\n",
       " ('glad', 70947),\n",
       " ('touch', 70836),\n",
       " ('broke', 70826),\n",
       " ('quick', 70821),\n",
       " ('step', 70641),\n",
       " ('silent', 70292),\n",
       " ('nose', 70216),\n",
       " ('truth', 70189),\n",
       " ('play', 70083),\n",
       " ('grin', 70008),\n",
       " ('meeting', 69790),\n",
       " ('cried', 69698),\n",
       " ('laughing', 69537),\n",
       " ('hey', 69501),\n",
       " ('important', 69418),\n",
       " ('auror', 69383),\n",
       " ('certain', 69086),\n",
       " ('smirked', 69075),\n",
       " ('warm', 68867),\n",
       " ('empty', 68803),\n",
       " ('none', 68765),\n",
       " ('became', 68583),\n",
       " ('weeks', 68448),\n",
       " ('team', 68390),\n",
       " ('high', 68186),\n",
       " ('using', 67986),\n",
       " ('food', 67975),\n",
       " ('percy', 67691),\n",
       " ('older', 67519),\n",
       " ('hate', 67209),\n",
       " ('fleur', 67169),\n",
       " ('expected', 67009),\n",
       " ('wide', 66933),\n",
       " ('threw', 66788),\n",
       " ('cheek', 66453),\n",
       " ('breakfast', 66270),\n",
       " ('worse', 66240),\n",
       " ('yelled', 66135),\n",
       " ('elf', 66079),\n",
       " ('problem', 66058),\n",
       " ('perfect', 65758),\n",
       " ('ones', 65621),\n",
       " ('clearly', 65571),\n",
       " ('cloak', 65547),\n",
       " ('teddy', 65494),\n",
       " ('memories', 65384),\n",
       " ('waited', 65162),\n",
       " ('shock', 64870),\n",
       " ('obviously', 64788),\n",
       " ('liked', 64714),\n",
       " ('ten', 64673),\n",
       " ('wife', 64517),\n",
       " ('alive', 64503),\n",
       " ('sometimes', 64412),\n",
       " ('arrived', 64411),\n",
       " ('certainly', 64298),\n",
       " ('riddle', 64224),\n",
       " ('note', 64200),\n",
       " ('carefully', 63928),\n",
       " ('summer', 63700),\n",
       " ('despite', 63456),\n",
       " ('glass', 63362),\n",
       " ('job', 63279),\n",
       " ('information', 63225),\n",
       " ('gotten', 63219),\n",
       " ('wrapped', 63197),\n",
       " ('loud', 63167),\n",
       " ('daphne', 63097),\n",
       " ('forced', 62984),\n",
       " ('except', 62880),\n",
       " ('ear', 62855),\n",
       " ('madam', 62807),\n",
       " ('strong', 62709),\n",
       " ('clothes', 62584),\n",
       " ('tomorrow', 62553),\n",
       " ('library', 62419),\n",
       " ('deal', 62406),\n",
       " ('tea', 62395),\n",
       " ('battle', 62389),\n",
       " ('trouble', 62159),\n",
       " ('calm', 62155),\n",
       " ('strange', 62151),\n",
       " ('worked', 61946),\n",
       " ('minute', 61805),\n",
       " ('confused', 61771),\n",
       " ('owl', 61714),\n",
       " ('middle', 61655),\n",
       " ('headed', 61349),\n",
       " ('easy', 61285),\n",
       " ('evening', 61234),\n",
       " ('normal', 61112),\n",
       " ('mine', 60965),\n",
       " ('daughter', 60930),\n",
       " ('parchment', 60602),\n",
       " ('shirt', 60584),\n",
       " ('secret', 60576),\n",
       " ('lay', 60567),\n",
       " ('seems', 60544),\n",
       " ('makes', 60465),\n",
       " ('apparently', 60368),\n",
       " ('paused', 60346),\n",
       " ('notice', 60301),\n",
       " ('twins', 60292),\n",
       " ('line', 60079),\n",
       " ('tired', 59933),\n",
       " ('suppose', 59666),\n",
       " ('moments', 59621),\n",
       " ('broom', 59575),\n",
       " ('somehow', 59163),\n",
       " ('led', 59084),\n",
       " ('tongue', 58920),\n",
       " ('broken', 58898),\n",
       " ('usual', 58718),\n",
       " ('lying', 58677),\n",
       " ('promise', 58654),\n",
       " ('cup', 58634),\n",
       " ('piece', 58556),\n",
       " ('pale', 58362),\n",
       " ('men', 58135),\n",
       " ('chuckled', 57997),\n",
       " ('arthur', 57966),\n",
       " ('familiar', 57869),\n",
       " ('questions', 57825),\n",
       " ('sounded', 57822),\n",
       " ('game', 57768),\n",
       " ('doubt', 57761),\n",
       " ('attack', 57751),\n",
       " ('save', 57467),\n",
       " ('mad', 57457),\n",
       " ('muggles', 57455),\n",
       " ('wonder', 57450),\n",
       " ('means', 57447),\n",
       " ('mate', 57443),\n",
       " ('finger', 57279),\n",
       " ('bright', 57238),\n",
       " ('helped', 57199),\n",
       " ('explain', 56921),\n",
       " ('uncle', 56909),\n",
       " ('bella', 56804),\n",
       " ('pressed', 56753),\n",
       " ('aurors', 56743),\n",
       " ('third', 56681),\n",
       " ('gasped', 56664),\n",
       " ('jumped', 56583),\n",
       " ('minister', 56580),\n",
       " ('charms', 56558),\n",
       " ('situation', 56482),\n",
       " ('hissed', 56467),\n",
       " ('hospital', 56209),\n",
       " ('whether', 56103),\n",
       " ('position', 56045),\n",
       " ('lifted', 55985),\n",
       " ('glared', 55937),\n",
       " ('covered', 55670),\n",
       " ('manor', 55670),\n",
       " ('fast', 55586),\n",
       " ('moody', 55532),\n",
       " ('catch', 55324),\n",
       " ('shall', 55200),\n",
       " ('seconds', 55172),\n",
       " ('wants', 55033),\n",
       " ('often', 54976),\n",
       " ('asleep', 54738),\n",
       " ('early', 54626),\n",
       " ('asking', 54625),\n",
       " ('teeth', 54323),\n",
       " ('dobby', 54202),\n",
       " ('listen', 53944),\n",
       " ('wearing', 53909),\n",
       " ('pomfrey', 53888),\n",
       " ('neither', 53741),\n",
       " ('bag', 53548),\n",
       " ('write', 53466),\n",
       " ('follow', 53416),\n",
       " ('al', 53384),\n",
       " ('following', 53339),\n",
       " ('forget', 53292),\n",
       " ('sigh', 53274),\n",
       " ('letting', 53272),\n",
       " ('kingsley', 53252),\n",
       " ('besides', 53210),\n",
       " ('pull', 53153),\n",
       " ('screamed', 53131),\n",
       " ('truly', 53129),\n",
       " ('soul', 53112),\n",
       " ('mark', 53108),\n",
       " ('student', 52921),\n",
       " ('ended', 52733),\n",
       " ('keeping', 52720),\n",
       " ('beginning', 52704),\n",
       " ('fighting', 52629),\n",
       " ('hoped', 52613),\n",
       " ('playing', 52518),\n",
       " ('flew', 52275),\n",
       " ('likely', 52206),\n",
       " ('brown', 52178),\n",
       " ('silver', 52175),\n",
       " ('wondering', 52137),\n",
       " ('easily', 52037),\n",
       " ('eyebrow', 52013),\n",
       " ('direction', 51994),\n",
       " ('usually', 51975),\n",
       " ('lip', 51954),\n",
       " ('husband', 51937),\n",
       " ('guys', 51902),\n",
       " ('hot', 51839),\n",
       " ('learn', 51829),\n",
       " ('hated', 51807),\n",
       " ('future', 51735),\n",
       " ('crying', 51731),\n",
       " ('ah', 51675),\n",
       " ('starting', 51652),\n",
       " ('edge', 51548),\n",
       " ('somewhere', 51536),\n",
       " ('eat', 51458),\n",
       " ('enjoy', 51442),\n",
       " ('flying', 51295),\n",
       " ('six', 51294),\n",
       " ('self', 51261),\n",
       " ('low', 50884),\n",
       " ('azkaban', 50866),\n",
       " ('shocked', 50717),\n",
       " ('offered', 50710),\n",
       " ('hoping', 50489),\n",
       " ('cry', 50473),\n",
       " ('cheeks', 50473),\n",
       " ('falling', 50450),\n",
       " ('age', 50400),\n",
       " ('powerful', 50349),\n",
       " ('damn', 50311),\n",
       " ('tightly', 50281),\n",
       " ('hide', 50270),\n",
       " ('serious', 50223),\n",
       " ('earlier', 50206),\n",
       " ('send', 50193),\n",
       " ('knees', 50096),\n",
       " ('money', 49936),\n",
       " ('train', 49898),\n",
       " ('missed', 49811),\n",
       " ('drink', 49791),\n",
       " ('pair', 49757),\n",
       " ('speaking', 49726),\n",
       " ('pocket', 49720),\n",
       " ('disappeared', 49698),\n",
       " ('ravenclaw', 49677),\n",
       " ('choice', 49665),\n",
       " ('lived', 49513),\n",
       " ('aware', 49488),\n",
       " ('single', 49437),\n",
       " ('god', 49403),\n",
       " ('spot', 49368),\n",
       " ('expect', 49211),\n",
       " ('definitely', 49123),\n",
       " ('wake', 49091),\n",
       " ('handed', 48902),\n",
       " ('putting', 48792),\n",
       " ('present', 48743),\n",
       " ('eventually', 48687),\n",
       " ('hug', 48646),\n",
       " ('aunt', 48507),\n",
       " ('bedroom', 48431),\n",
       " ('forest', 48367),\n",
       " ('mirror', 48347),\n",
       " ('ears', 48282),\n",
       " ('killing', 48272),\n",
       " ('simple', 48085),\n",
       " ('dress', 48036),\n",
       " ('check', 47873),\n",
       " ('scared', 47849),\n",
       " ('waved', 47740),\n",
       " ('laughter', 47731),\n",
       " ('paper', 47669),\n",
       " ('continue', 47559),\n",
       " ('admit', 47548),\n",
       " ('join', 47337),\n",
       " ('sounds', 47328),\n",
       " ('feelings', 47092),\n",
       " ('exclaimed', 47085),\n",
       " ('force', 47082),\n",
       " ('breathing', 47001),\n",
       " ('corridor', 46869),\n",
       " ('box', 46868),\n",
       " ('blinked', 46858),\n",
       " ('slipped', 46709),\n",
       " ('relief', 46687),\n",
       " ('showed', 46674),\n",
       " ('sleeping', 46518),\n",
       " ('forehead', 46507),\n",
       " ('writing', 46495),\n",
       " ('doors', 46400),\n",
       " ('smirk', 46355),\n",
       " ('younger', 46337),\n",
       " ('final', 46261),\n",
       " ('news', 46211),\n",
       " ('wands', 46167),\n",
       " ('murmured', 45937),\n",
       " ('protect', 45909),\n",
       " ('causing', 45781),\n",
       " ('ok', 45658),\n",
       " ('ball', 45645),\n",
       " ('indeed', 45579),\n",
       " ('bathroom', 45553),\n",
       " ('twenty', 45371),\n",
       " ('snake', 45310),\n",
       " ('kissing', 45251),\n",
       " ('dangerous', 45125),\n",
       " ('steps', 45110),\n",
       " ('business', 45092),\n",
       " ('wards', 45062),\n",
       " ('seamus', 44902),\n",
       " ('lunch', 44897),\n",
       " ('glance', 44786),\n",
       " ('evil', 44733),\n",
       " ('dean', 44723),\n",
       " ('obvious', 44673),\n",
       " ('alley', 44623),\n",
       " ('cause', 44580),\n",
       " ('entrance', 44540),\n",
       " ('dream', 44511),\n",
       " ('sudden', 44443),\n",
       " ('stayed', 44390),\n",
       " ('party', 44390),\n",
       " ('foot', 44367),\n",
       " ('busy', 44364),\n",
       " ('apart', 44348),\n",
       " ('ring', 44289),\n",
       " ('married', 44249),\n",
       " ('dragon', 44219),\n",
       " ('visit', 44212),\n",
       " ('cedric', 44206),\n",
       " ('touched', 44172),\n",
       " ('needs', 44141),\n",
       " ('difficult', 44120),\n",
       " ('honestly', 44097),\n",
       " ('fuck', 44026),\n",
       " ('fault', 43967),\n",
       " ('imagine', 43960),\n",
       " ('number', 43915),\n",
       " ('drew', 43880),\n",
       " ('stuff', 43795),\n",
       " ('blonde', 43734),\n",
       " ('burst', 43701),\n",
       " ('walls', 43663),\n",
       " ('aside', 43658),\n",
       " ('leaning', 43647),\n",
       " ('human', 43570),\n",
       " ('groaned', 43522),\n",
       " ('crowd', 43518),\n",
       " ('slytherins', 43462),\n",
       " ('darkness', 43429),\n",
       " ('interrupted', 43285),\n",
       " ('silently', 43117),\n",
       " ('hello', 43109),\n",
       " ('odd', 43097),\n",
       " ('learned', 43047),\n",
       " ('couch', 43041),\n",
       " ('remained', 43015),\n",
       " ('teacher', 42976),\n",
       " ('tower', 42953),\n",
       " ('stuck', 42821),\n",
       " ('match', 42799),\n",
       " ('ahead', 42701),\n",
       " ('werewolf', 42675),\n",
       " ('stated', 42657),\n",
       " ('date', 42522),\n",
       " ('tight', 42514),\n",
       " ('lavender', 42462),\n",
       " ('wanting', 42440),\n",
       " ('spend', 42436),\n",
       " ('growled', 42434),\n",
       " ('allow', 42248),\n",
       " ('lose', 42205),\n",
       " ('born', 42196),\n",
       " ('points', 42024),\n",
       " ('finish', 42003),\n",
       " ('grew', 41951),\n",
       " ('act', 41934),\n",
       " ('hiding', 41912),\n",
       " ('heavy', 41908),\n",
       " ('realised', 41888),\n",
       " ('relationship', 41875),\n",
       " ('response', 41694),\n",
       " ('crossed', 41654),\n",
       " ('written', 41646)]"
      ]
     },
     "execution_count": 4,
     "metadata": {},
     "output_type": "execute_result"
    }
   ],
   "source": [
    "common_counter.most_common(1000)"
   ]
  },
  {
   "cell_type": "code",
   "execution_count": 5,
   "metadata": {
    "pycharm": {
     "name": "#%%\n"
    }
   },
   "outputs": [],
   "source": [
    "most_popular_words = []\n",
    "for i in common_counter.most_common(1000):\n",
    "    most_popular_words.append(i[0])"
   ]
  },
  {
   "cell_type": "code",
   "execution_count": 6,
   "metadata": {
    "pycharm": {
     "name": "#%%\n"
    }
   },
   "outputs": [],
   "source": [
    "with open('most_common_1000.txt', 'w+') as f:\n",
    "    for w in most_popular_words:\n",
    "        f.write(w)\n",
    "        f.write('\\n')"
   ]
  },
  {
   "cell_type": "code",
   "execution_count": 14,
   "metadata": {},
   "outputs": [],
   "source": [
    "import pandas as pd\n",
    "import matplotlib.pyplot as plt"
   ]
  },
  {
   "cell_type": "code",
   "execution_count": 46,
   "metadata": {},
   "outputs": [
    {
     "data": {
      "image/png": "[encoded data removed]",
      "text/plain": [
       "<Figure size 1440x720 with 1 Axes>"
      ]
     },
     "metadata": {
      "needs_background": "light"
     },
     "output_type": "display_data"
    }
   ],
   "source": [
    "df = pd.DataFrame(common_counter.most_common(1000), columns = ['word', 'freq'])\n",
    "\n",
    "ax = df.iloc[:50].plot.bar(x='word', y='freq', rot=-90, figsize=(20,10))\n",
    "plt.tight_layout()\n",
    "plt.savefig('most_common_50.png')"
   ]
  },
  {
   "cell_type": "code",
   "execution_count": null,
   "metadata": {},
   "outputs": [],
   "source": []
  },
  {
   "cell_type": "markdown",
   "metadata": {
    "pycharm": {
     "name": "#%% md\n"
    }
   },
   "source": [
    "## 2 "
   ]
  },
  {
   "cell_type": "markdown",
   "metadata": {},
   "source": [
    "## Load most common english first names and last names"
   ]
  },
  {
   "cell_type": "code",
   "execution_count": 22,
   "metadata": {},
   "outputs": [],
   "source": [
    "with open('first_names.all.txt') as f:\n",
    "    names = f.read()\n",
    "first_names = set(names.split())"
   ]
  },
  {
   "cell_type": "code",
   "execution_count": 23,
   "metadata": {},
   "outputs": [],
   "source": [
    "with open('last_names.all.txt') as f:\n",
    "    names = f.read()\n",
    "last_names = set(names.split())"
   ]
  },
  {
   "cell_type": "markdown",
   "metadata": {
    "pycharm": {
     "name": "#%% md\n"
    }
   },
   "source": [
    "## Get HP names. And select first names and last names "
   ]
  },
  {
   "cell_type": "code",
   "execution_count": 24,
   "metadata": {},
   "outputs": [],
   "source": [
    "with open('harry-potter-names.json') as f:\n",
    "    hp_names = f.read()\n",
    "hp_names = hp_names.replace('\"', '')\n",
    "hp_names = hp_names.replace(',', '')\n",
    "hp_names = hp_names.replace('[', '')\n",
    "hp_names = hp_names.replace(']', '')\n",
    "hp_names = hp_names.replace('(', '')\n",
    "hp_names = hp_names.replace(')', '')\n",
    "hp_names = hp_names.split('\\n')\n",
    "hp_first_names = []\n",
    "hp_last_names = []\n",
    "for character in hp_names:\n",
    "    name = character.split()\n",
    "    if len(name) != 2:\n",
    "        continue\n",
    "    hp_first_names.append(name[0].lower())\n",
    "    hp_last_names.append(name[1].lower())\n",
    "    \n",
    "    \n",
    "hp_first_names = set(hp_first_names)\n",
    "hp_last_names = set(hp_last_names)"
   ]
  },
  {
   "cell_type": "code",
   "execution_count": 25,
   "metadata": {},
   "outputs": [],
   "source": [
    "all_last_names = last_names.union(hp_last_names)"
   ]
  },
  {
   "cell_type": "code",
   "execution_count": 26,
   "metadata": {},
   "outputs": [],
   "source": [
    "all_first_names = first_names.union(hp_first_names)"
   ]
  },
  {
   "cell_type": "markdown",
   "metadata": {
    "pycharm": {
     "name": "#%% md\n"
    }
   },
   "source": [
    "## Find all first names in texts"
   ]
  },
  {
   "cell_type": "code",
   "execution_count": 27,
   "metadata": {},
   "outputs": [],
   "source": [
    "def select_first_names(filename):\n",
    "    with open(os.path.join('fanfiction_texts', filename)) as f:\n",
    "        text = f.read()\n",
    "    found_names = []\n",
    "    name_candidates = re.findall('[A-Z]\\w+', text)\n",
    "    for word in name_candidates:\n",
    "        if word.lower() in all_first_names:\n",
    "            found_names.append(word.lower())\n",
    "    return Counter(found_names)"
   ]
  },
  {
   "cell_type": "code",
   "execution_count": 28,
   "metadata": {
    "pycharm": {
     "name": "#%%timeit\n"
    }
   },
   "outputs": [],
   "source": [
    "file_names = os.listdir(path=\"hpac_filtered\")\n",
    "pool = multiprocessing.Pool(processes=7)\n",
    "results = pool.map(select_first_names, file_names)\n",
    "pool.close()\n",
    "pool.join()"
   ]
  },
  {
   "cell_type": "code",
   "execution_count": 29,
   "metadata": {
    "pycharm": {
     "name": "#%%\n"
    }
   },
   "outputs": [
    {
     "name": "stderr",
     "output_type": "stream",
     "text": [
      "/home/analekseev/PycharmProjects/NLP/venv/lib/python3.7/site-packages/ipykernel_launcher.py:2: TqdmDeprecationWarning: This function will be removed in tqdm==5.0.0\n",
      "Please use `tqdm.notebook.tqdm` instead of `tqdm.tqdm_notebook`\n",
      "  \n"
     ]
    },
    {
     "data": {
      "application/vnd.jupyter.widget-view+json": {
       "model_id": "59d550e738d3417a93f60756f82fded8",
       "version_major": 2,
       "version_minor": 0
      },
      "text/plain": [
       "HBox(children=(FloatProgress(value=0.0, max=36225.0), HTML(value='')))"
      ]
     },
     "metadata": {},
     "output_type": "display_data"
    },
    {
     "name": "stdout",
     "output_type": "stream",
     "text": [
      "\n"
     ]
    }
   ],
   "source": [
    "first_name_counter = Counter()\n",
    "for i in tqdm.tqdm_notebook(results):\n",
    "    first_name_counter.update(i)"
   ]
  },
  {
   "cell_type": "code",
   "execution_count": 30,
   "metadata": {},
   "outputs": [
    {
     "data": {
      "text/plain": [
       "[('harry', 3994654),\n",
       " ('hermione', 1830884),\n",
       " ('draco', 1389286),\n",
       " ('ron', 905808),\n",
       " ('severus', 655471),\n",
       " ('ginny', 639193),\n",
       " ('sirius', 630024),\n",
       " ('james', 468712),\n",
       " ('remus', 433642),\n",
       " ('lily', 421981)]"
      ]
     },
     "execution_count": 30,
     "metadata": {},
     "output_type": "execute_result"
    }
   ],
   "source": [
    "first_name_counter.most_common(10)"
   ]
  },
  {
   "cell_type": "code",
   "execution_count": 45,
   "metadata": {},
   "outputs": [
    {
     "data": {
      "image/png": "[encoded data removed]",
      "text/plain": [
       "<Figure size 720x360 with 1 Axes>"
      ]
     },
     "metadata": {
      "needs_background": "light"
     },
     "output_type": "display_data"
    }
   ],
   "source": [
    "df = pd.DataFrame(first_name_counter.most_common(10), columns = ['word', 'freq'])\n",
    "\n",
    "ax = df.plot.bar(x='word', y='freq', rot=-45, figsize=(10,5))\n",
    "plt.tight_layout()\n",
    "plt.savefig('most_common_names_10.png')"
   ]
  },
  {
   "cell_type": "markdown",
   "metadata": {
    "pycharm": {
     "name": "#%% md\n"
    }
   },
   "source": [
    "## Find all first + last names in texts"
   ]
  },
  {
   "cell_type": "code",
   "execution_count": 32,
   "metadata": {
    "pycharm": {
     "name": "#%%\n"
    }
   },
   "outputs": [],
   "source": [
    "def select_first_last_names(filename):\n",
    "    with open(os.path.join('fanfiction_texts', filename)) as f:\n",
    "        text = f.read()\n",
    "    found_names = []\n",
    "    name_candidates = re.findall('[A-Z]\\w+\\s[A-Z]\\w+', text)\n",
    "    for pair in name_candidates:\n",
    "        f_name, l_name = pair.split()\n",
    "        if f_name.lower() in all_first_names and l_name.lower() in all_last_names:\n",
    "            found_names.append(pair.lower())\n",
    "    return Counter(found_names)"
   ]
  },
  {
   "cell_type": "code",
   "execution_count": 33,
   "metadata": {
    "pycharm": {
     "name": "#%%\n"
    }
   },
   "outputs": [],
   "source": [
    "file_names = os.listdir(path=\"hpac_filtered\")\n",
    "pool = multiprocessing.Pool(processes=7)\n",
    "results = pool.map(select_first_last_names, file_names)\n",
    "pool.close()\n",
    "pool.join()"
   ]
  },
  {
   "cell_type": "code",
   "execution_count": 34,
   "metadata": {
    "pycharm": {
     "name": "#%%\n"
    }
   },
   "outputs": [
    {
     "name": "stderr",
     "output_type": "stream",
     "text": [
      "/home/analekseev/PycharmProjects/NLP/venv/lib/python3.7/site-packages/ipykernel_launcher.py:2: TqdmDeprecationWarning: This function will be removed in tqdm==5.0.0\n",
      "Please use `tqdm.notebook.tqdm` instead of `tqdm.tqdm_notebook`\n",
      "  \n"
     ]
    },
    {
     "data": {
      "application/vnd.jupyter.widget-view+json": {
       "model_id": "eff14de8078b4ba5b9eb9a04f96e42f1",
       "version_major": 2,
       "version_minor": 0
      },
      "text/plain": [
       "HBox(children=(FloatProgress(value=0.0, max=36225.0), HTML(value='')))"
      ]
     },
     "metadata": {},
     "output_type": "display_data"
    },
    {
     "name": "stdout",
     "output_type": "stream",
     "text": [
      "\n"
     ]
    }
   ],
   "source": [
    "first_last_name_counter = Counter()\n",
    "for i in tqdm.tqdm_notebook(results):\n",
    "    first_last_name_counter.update(i)"
   ]
  },
  {
   "cell_type": "code",
   "execution_count": 35,
   "metadata": {
    "pycharm": {
     "name": "#%%\n"
    }
   },
   "outputs": [
    {
     "data": {
      "text/plain": [
       "[('harry potter', 122338),\n",
       " ('draco malfoy', 46330),\n",
       " ('hermione granger', 29214),\n",
       " ('severus snape', 28968),\n",
       " ('sirius black', 25979),\n",
       " ('lucius malfoy', 22740),\n",
       " ('james potter', 21010),\n",
       " ('albus dumbledore', 20183),\n",
       " ('tom riddle', 17868),\n",
       " ('remus lupin', 12716)]"
      ]
     },
     "execution_count": 35,
     "metadata": {},
     "output_type": "execute_result"
    }
   ],
   "source": [
    "first_last_name_counter.most_common(10)"
   ]
  },
  {
   "cell_type": "code",
   "execution_count": 44,
   "metadata": {},
   "outputs": [
    {
     "data": {
      "image/png": "[encoded data removed]",
      "text/plain": [
       "<Figure size 720x360 with 1 Axes>"
      ]
     },
     "metadata": {
      "needs_background": "light"
     },
     "output_type": "display_data"
    }
   ],
   "source": [
    "df = pd.DataFrame(first_last_name_counter.most_common(10), columns = ['word', 'freq'])\n",
    "\n",
    "ax = df.plot.bar(x='word', y='freq', rot=-45, figsize=(10,5))\n",
    "plt.tight_layout()\n",
    "plt.savefig('most_common_f_l_names_10.png')"
   ]
  },
  {
   "cell_type": "markdown",
   "metadata": {},
   "source": [
    "## Find all first professor + first/last name in texts"
   ]
  },
  {
   "cell_type": "code",
   "execution_count": 37,
   "metadata": {
    "pycharm": {
     "name": "#%%\n"
    }
   },
   "outputs": [],
   "source": [
    "def select_prof_names(filename):\n",
    "    with open(os.path.join('fanfiction_texts', filename)) as f:\n",
    "        text = f.read()\n",
    "    found_names = []\n",
    "    name_candidates = re.findall('(Professor|professor)\\s([A-Z]\\w+)', text)\n",
    "    for pair in name_candidates:\n",
    "        prof, name = pair\n",
    "        if name.lower() in all_first_names or name.lower() in all_last_names:\n",
    "            found_names.append(' '.join([prof.lower(), name.lower()]))\n",
    "    return Counter(found_names)"
   ]
  },
  {
   "cell_type": "code",
   "execution_count": 38,
   "metadata": {
    "pycharm": {
     "name": "#%%\n"
    }
   },
   "outputs": [],
   "source": [
    "file_names = os.listdir(path=\"hpac_filtered\")\n",
    "pool = multiprocessing.Pool(processes=7)\n",
    "results = pool.map(select_prof_names, file_names)\n",
    "pool.close()\n",
    "pool.join()"
   ]
  },
  {
   "cell_type": "code",
   "execution_count": 39,
   "metadata": {
    "pycharm": {
     "name": "#%%\n"
    }
   },
   "outputs": [
    {
     "name": "stderr",
     "output_type": "stream",
     "text": [
      "/home/analekseev/PycharmProjects/NLP/venv/lib/python3.7/site-packages/ipykernel_launcher.py:2: TqdmDeprecationWarning: This function will be removed in tqdm==5.0.0\n",
      "Please use `tqdm.notebook.tqdm` instead of `tqdm.tqdm_notebook`\n",
      "  \n"
     ]
    },
    {
     "data": {
      "application/vnd.jupyter.widget-view+json": {
       "model_id": "5e5d28bb302743b98333a44528843288",
       "version_major": 2,
       "version_minor": 0
      },
      "text/plain": [
       "HBox(children=(FloatProgress(value=0.0, max=36225.0), HTML(value='')))"
      ]
     },
     "metadata": {},
     "output_type": "display_data"
    },
    {
     "name": "stdout",
     "output_type": "stream",
     "text": [
      "\n"
     ]
    }
   ],
   "source": [
    "prof_counter = Counter()\n",
    "for i in tqdm.tqdm_notebook(results):\n",
    "    prof_counter.update(i)"
   ]
  },
  {
   "cell_type": "code",
   "execution_count": 40,
   "metadata": {},
   "outputs": [
    {
     "data": {
      "text/plain": [
       "[('professor snape', 44839),\n",
       " ('professor mcgonagall', 42772),\n",
       " ('professor dumbledore', 23956),\n",
       " ('professor lupin', 10017),\n",
       " ('professor flitwick', 9491),\n",
       " ('professor slughorn', 5832),\n",
       " ('professor sprout', 5760),\n",
       " ('professor trelawney', 3165),\n",
       " ('professor longbottom', 2371),\n",
       " ('professor binns', 2127)]"
      ]
     },
     "execution_count": 40,
     "metadata": {},
     "output_type": "execute_result"
    }
   ],
   "source": [
    "prof_counter.most_common(10)"
   ]
  },
  {
   "cell_type": "code",
   "execution_count": 43,
   "metadata": {},
   "outputs": [
    {
     "data": {
      "image/png": "[encoded data removed]",
      "text/plain": [
       "<Figure size 720x360 with 1 Axes>"
      ]
     },
     "metadata": {
      "needs_background": "light"
     },
     "output_type": "display_data"
    }
   ],
   "source": [
    "df = pd.DataFrame(prof_counter.most_common(10), columns = ['word', 'freq'])\n",
    "\n",
    "ax = df.plot.bar(x='word', y='freq', rot=-45, figsize=(10,5))\n",
    "plt.tight_layout()\n",
    "plt.savefig('most_common_prof_names_10.png')"
   ]
  },
  {
   "cell_type": "code",
   "execution_count": null,
   "metadata": {},
   "outputs": [],
   "source": []
  }
 ],
 "metadata": {
  "kernelspec": {
   "display_name": "Python 3",
   "language": "python",
   "name": "python3"
  },
  "language_info": {
   "codemirror_mode": {
    "name": "ipython",
    "version": 3
   },
   "file_extension": ".py",
   "mimetype": "text/x-python",
   "name": "python",
   "nbconvert_exporter": "python",
   "pygments_lexer": "ipython3",
   "version": "3.7.5"
  },
  "pycharm": {
   "stem_cell": {
    "cell_type": "raw",
    "metadata": {
     "collapsed": false
    },
    "source": []
   }
  }
 },
 "nbformat": 4,
 "nbformat_minor": 4
}
